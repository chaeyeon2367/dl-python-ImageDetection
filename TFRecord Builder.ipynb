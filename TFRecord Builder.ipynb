{
 "cells": [
  {
   "attachments": {},
   "cell_type": "markdown",
   "metadata": {},
   "source": [
    "# TFRecord Builder\n",
    "\n",
    "- num_tprecord: Calculate the number of tprecord files\n",
    "- The rest will be treated separately as an if statement\n",
    "- Save 100 images and labels using idx and IMAGE_PER_TFRRCORD\n",
    "- The image_example function defined above allows you to set the storage type of images and labels"
   ]
  },
  {
   "cell_type": "code",
   "execution_count": 10,
   "metadata": {},
   "outputs": [],
   "source": [
    "import glob\n",
    "import os\n",
    "import tensorflow as tf\n",
    "import cv2"
   ]
  },
  {
   "cell_type": "markdown",
   "metadata": {},
   "source": [
    "## Paths and Hyperparameters"
   ]
  },
  {
   "cell_type": "code",
   "execution_count": 12,
   "metadata": {},
   "outputs": [],
   "source": [
    "DATASET_OK_PATTERN = '/Users/shim/dl-python-ImageDetection/dataset/3/OK/'\n",
    "DATASET_FAIL_PATTERN = '/Users/shim/dl-python-ImageDetection/dataset/3/FAIL/'\n",
    "\n",
    "TFRECORD_PATH = '/Users/shim/dl-python-ImageDetection/dataset/tfrecords/'\n",
    "IMAGE_PER_TFRECORD = 100"
   ]
  },
  {
   "cell_type": "markdown",
   "metadata": {},
   "source": [
    "## Import data"
   ]
  },
  {
   "cell_type": "code",
   "execution_count": 13,
   "metadata": {},
   "outputs": [],
   "source": [
    "def get_file_list(directory, extension):\n",
    "    file_list = []\n",
    "    for root, dirs, files in os.walk(directory):\n",
    "        for file in files:\n",
    "            if file.endswith(extension):\n",
    "                file_list.append(os.path.join(root, file))\n",
    "    return file_list"
   ]
  },
  {
   "cell_type": "code",
   "execution_count": 14,
   "metadata": {},
   "outputs": [],
   "source": [
    "ok_list = get_file_list(DATASET_OK_PATTERN, '.png')\n",
    "fail_list = get_file_list(DATASET_FAIL_PATTERN, '.png')\n",
    "\n",
    "num_ok = len(ok_list)\n",
    "num_fail = len(fail_list)\n",
    "\n",
    "#Oversampling\n",
    "fail_list_new = list()\n",
    "for _ in range(num_ok // num_fail):\n",
    "    fail_list_new += fail_list\n",
    "\n",
    "fail_list_new += fail_list[: num_ok % num_fail]\n",
    "fail_list = fail_list_new\n",
    "\n",
    "ok_label = [0] * len(ok_list)\n",
    "fail_label = [1] * len(fail_list)\n",
    "\n",
    "file_list = ok_list + fail_list\n",
    "label_list = ok_label + fail_label"
   ]
  },
  {
   "cell_type": "markdown",
   "metadata": {},
   "source": [
    "## TFRecord functions"
   ]
  },
  {
   "cell_type": "code",
   "execution_count": 15,
   "metadata": {},
   "outputs": [],
   "source": [
    "def _bytes_feature(value):\n",
    "    \"\"\"Returns a bytes_list from a string / byte.\"\"\"\n",
    "    if isinstance(value, type(tf.constant(0))):\n",
    "        value = value.numpy() # BytesList won't unpack a string from an EagerTensor.\n",
    "    return tf.train.Feature(bytes_list=tf.train.BytesList(value=[value]))\n",
    "\n",
    "def _int64_feature(value):\n",
    "    \"\"\"Returns an int64_list from a bool / enum / int / uint.\"\"\"\n",
    "    return tf.train.Feature(int64_list=tf.train.Int64List(value=[value]))\n",
    "\n",
    "def image_example(image_string, label):\n",
    "    image_shape = tf.image.decode_image(image_string).shape\n",
    "\n",
    "    feature = {\n",
    "        'height': _int64_feature(image_shape[0]),\n",
    "        'width': _int64_feature(image_shape[1]),\n",
    "        'depth': _int64_feature(image_shape[2]),\n",
    "        'label': _int64_feature(label),\n",
    "        'image_raw': _bytes_feature(image_string),\n",
    "    }\n",
    "\n",
    "    return tf.train.Example(features=tf.train.Features(feature=feature))"
   ]
  },
  {
   "cell_type": "markdown",
   "metadata": {},
   "source": [
    "## Write TFRecords"
   ]
  },
  {
   "cell_type": "code",
   "execution_count": 16,
   "metadata": {},
   "outputs": [],
   "source": [
    "if os.path.exists(TFRECORD_PATH) is False :\n",
    "    os.mkdir(TFRECORD_PATH)\n",
    "\n",
    "num_tfrecords = len(file_list) // IMAGE_PER_TFRECORD + 1\n",
    "if len(file_list) % IMAGE_PER_TFRECORD != 0:\n",
    "    num_tfrecords += 1\n",
    "\n",
    "for idx in range(num_tfrecords):\n",
    "    idx0 = idx + IMAGE_PER_TFRECORD\n",
    "    idx1 = idx0 + IMAGE_PER_TFRECORD\n",
    "    record_file = TFRECORD_PATH + '%05d.tfrecords' % idx\n",
    "    with tf.io.TFRecordWriter(record_file) as writer:\n",
    "        for filename, label in zip(file_list[idx0:idx1],\n",
    "                                   label_list[idx0:idx1]):\n",
    "            image_string = open(filename,'rb').read()\n",
    "            tf_example = image_example(image_string,label)\n",
    "            writer.write(tf_example.SerializeToString())"
   ]
  }
 ],
 "metadata": {
  "kernelspec": {
   "display_name": "Python 3",
   "language": "python",
   "name": "python3"
  },
  "language_info": {
   "codemirror_mode": {
    "name": "ipython",
    "version": 3
   },
   "file_extension": ".py",
   "mimetype": "text/x-python",
   "name": "python",
   "nbconvert_exporter": "python",
   "pygments_lexer": "ipython3",
   "version": "3.9.13"
  }
 },
 "nbformat": 4,
 "nbformat_minor": 2
}
