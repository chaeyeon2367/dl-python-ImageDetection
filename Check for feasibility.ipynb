{
 "cells": [
  {
   "attachments": {},
   "cell_type": "markdown",
   "metadata": {},
   "source": [
    "# Check for feasibility"
   ]
  },
  {
   "cell_type": "code",
   "execution_count": 1,
   "metadata": {},
   "outputs": [],
   "source": [
    "import glob\n",
    "import os\n",
    "import tensorflow as tf\n",
    "import cv2\n",
    "from tensorflow.keras.layers import Conv2D, MaxPool2D, Flatten, Dense\n",
    "from tensorflow.keras.models import Sequential"
   ]
  },
  {
   "attachments": {},
   "cell_type": "markdown",
   "metadata": {},
   "source": [
    "## Set hyperparameter"
   ]
  },
  {
   "cell_type": "code",
   "execution_count": 13,
   "metadata": {},
   "outputs": [],
   "source": [
    "EPOCHS = 50\n",
    "\n",
    "DATASET_PATH = '/Users/shim/dl-python-ImageDetection/dataset/2/'\n",
    "DATASET_OK_PATTERN = '/Users/shim/dl-python-ImageDetection/dataset/2/OK/'\n",
    "DATASET_FAIL_PATTERN = '/Users/shim/dl-python-ImageDetection/dataset/2/FAIL/'\n",
    "\n",
    "RESULT_SAVE_PATH = '/Users/shim/dl-python-ImageDetection/dataset/results/'"
   ]
  },
  {
   "attachments": {},
   "cell_type": "markdown",
   "metadata": {},
   "source": [
    "## Simple Model Setting "
   ]
  },
  {
   "cell_type": "code",
   "execution_count": 3,
   "metadata": {},
   "outputs": [],
   "source": [
    "def Model():\n",
    "    return Sequential([Conv2D(32, (3,3), activation='relu',input_shape=(256, 256, 1)),\n",
    "                       MaxPool2D(),\n",
    "                       Conv2D(64, (3,3), activation='relu'),\n",
    "                       MaxPool2D(),\n",
    "                       Conv2D(128, (3,3), activation='relu'),\n",
    "                       MaxPool2D(),\n",
    "                       Conv2D(256, (3,3), activation='relu'),\n",
    "                       MaxPool2D(),\n",
    "                       Flatten(),\n",
    "                       Dense(1, activation='sigmoid')])"
   ]
  },
  {
   "attachments": {},
   "cell_type": "markdown",
   "metadata": {},
   "source": [
    "## Import dataset"
   ]
  },
  {
   "cell_type": "code",
   "execution_count": 5,
   "metadata": {},
   "outputs": [],
   "source": [
    "def preprocess(file_name):\n",
    "    img = tf.io.read_file(file_name)\n",
    "    img = tf.image.decode_png(img, channels=1)\n",
    "    return tf.image.convert_image_dtype(img, tf.float32)"
   ]
  },
  {
   "cell_type": "code",
   "execution_count": 23,
   "metadata": {},
   "outputs": [],
   "source": [
    "def get_file_list(directory, extension):\n",
    "    file_list = []\n",
    "    for root, dirs, files in os.walk(directory):\n",
    "        for file in files:\n",
    "            if file.endswith(extension):\n",
    "                file_list.append(os.path.join(root, file))\n",
    "    return file_list\n"
   ]
  },
  {
   "cell_type": "code",
   "execution_count": 14,
   "metadata": {},
   "outputs": [],
   "source": [
    "ok_list = get_file_list(DATASET_OK_PATTERN, '.png')\n",
    "ds_ok = tf.data.Dataset.list_files(ok_list)\n",
    "ds_ok_label = tf.data.Dataset.from_tensor_slices([0] * len(ok_list))\n",
    "\n",
    "ds_ok = ds_ok.map(preprocess)\n",
    "ds_ok = tf.data.Dataset.zip((ds_ok, ds_ok_label))\n",
    "\n",
    "fail_list = get_file_list(DATASET_FAIL_PATTERN, '.png')\n",
    "ds_fail = tf.data.Dataset.list_files(fail_list)\n",
    "ds_fail_label = tf.data.Dataset.from_tensor_slices([1] * len(fail_list))\n",
    "\n",
    "ds_fail = ds_fail.map(preprocess)\n",
    "ds_fail = tf.data.Dataset.zip((ds_fail, ds_fail_label))\n",
    "\n",
    "ds = tf.data.Dataset.concatenate(ds_ok, ds_fail)"
   ]
  },
  {
   "attachments": {},
   "cell_type": "markdown",
   "metadata": {},
   "source": [
    "## Split Train, Validation set"
   ]
  },
  {
   "cell_type": "code",
   "execution_count": 15,
   "metadata": {
    "scrolled": false
   },
   "outputs": [],
   "source": [
    "ds_size = len(ok_list) + len(fail_list)\n",
    "train_size = int(ds_size * 0.7)\n",
    "\n",
    "ds = ds.shuffle(ds_size)\n",
    "ds_train = ds.take(train_size).shuffle(1024, reshuffle_each_iteration=True).batch(32)\n",
    "ds_validation = ds.skip(train_size).batch(32)"
   ]
  },
  {
   "cell_type": "code",
   "execution_count": 17,
   "metadata": {},
   "outputs": [
    {
     "data": {
      "text/plain": [
       "662"
      ]
     },
     "execution_count": 17,
     "metadata": {},
     "output_type": "execute_result"
    }
   ],
   "source": [
    "train_size"
   ]
  },
  {
   "attachments": {},
   "cell_type": "markdown",
   "metadata": {},
   "source": [
    "## Build and Train the Model"
   ]
  },
  {
   "cell_type": "code",
   "execution_count": 18,
   "metadata": {
    "scrolled": true
   },
   "outputs": [],
   "source": [
    "model = Model()\n",
    "model.compile(optimizer='adam',\n",
    "              loss='binary_crossentropy',\n",
    "              metrics=['accuracy'])"
   ]
  },
  {
   "cell_type": "code",
   "execution_count": 19,
   "metadata": {
    "scrolled": true
   },
   "outputs": [
    {
     "name": "stdout",
     "output_type": "stream",
     "text": [
      "Epoch 1/50\n",
      "21/21 [==============================] - 32s 1s/step - loss: 0.4665 - accuracy: 0.8202 - val_loss: 0.3626 - val_accuracy: 0.8807\n",
      "Epoch 2/50\n",
      "21/21 [==============================] - 33s 2s/step - loss: 0.3879 - accuracy: 0.8731 - val_loss: 0.3644 - val_accuracy: 0.8632\n",
      "Epoch 3/50\n",
      "21/21 [==============================] - 35s 2s/step - loss: 0.3227 - accuracy: 0.8882 - val_loss: 0.3242 - val_accuracy: 0.8842\n",
      "Epoch 4/50\n",
      "21/21 [==============================] - 37s 2s/step - loss: 0.3510 - accuracy: 0.8776 - val_loss: 0.3232 - val_accuracy: 0.8947\n",
      "Epoch 5/50\n",
      "21/21 [==============================] - 38s 2s/step - loss: 0.3166 - accuracy: 0.8943 - val_loss: 0.3579 - val_accuracy: 0.8807\n",
      "Epoch 6/50\n",
      "21/21 [==============================] - 38s 2s/step - loss: 0.3527 - accuracy: 0.8807 - val_loss: 0.3753 - val_accuracy: 0.8316\n",
      "Epoch 7/50\n",
      "21/21 [==============================] - 39s 2s/step - loss: 0.3480 - accuracy: 0.8671 - val_loss: 0.3423 - val_accuracy: 0.8667\n",
      "Epoch 8/50\n",
      "21/21 [==============================] - 38s 2s/step - loss: 0.3609 - accuracy: 0.8671 - val_loss: 0.4165 - val_accuracy: 0.8246\n",
      "Epoch 9/50\n",
      "21/21 [==============================] - 39s 2s/step - loss: 0.3379 - accuracy: 0.8701 - val_loss: 0.3714 - val_accuracy: 0.8737\n",
      "Epoch 10/50\n",
      "21/21 [==============================] - 39s 2s/step - loss: 0.3305 - accuracy: 0.8882 - val_loss: 0.2982 - val_accuracy: 0.9053\n",
      "Epoch 11/50\n",
      "21/21 [==============================] - 39s 2s/step - loss: 0.3349 - accuracy: 0.8671 - val_loss: 0.3162 - val_accuracy: 0.8842\n",
      "Epoch 12/50\n",
      "21/21 [==============================] - 38s 2s/step - loss: 0.3395 - accuracy: 0.8807 - val_loss: 0.3697 - val_accuracy: 0.8702\n",
      "Epoch 13/50\n",
      "21/21 [==============================] - 39s 2s/step - loss: 0.3382 - accuracy: 0.8716 - val_loss: 0.3570 - val_accuracy: 0.8561\n",
      "Epoch 14/50\n",
      "21/21 [==============================] - 40s 2s/step - loss: 0.3043 - accuracy: 0.8927 - val_loss: 0.2894 - val_accuracy: 0.8877\n",
      "Epoch 15/50\n",
      "21/21 [==============================] - 40s 2s/step - loss: 0.3130 - accuracy: 0.8912 - val_loss: 0.3846 - val_accuracy: 0.8351\n",
      "Epoch 16/50\n",
      "21/21 [==============================] - 39s 2s/step - loss: 0.2880 - accuracy: 0.8958 - val_loss: 0.3672 - val_accuracy: 0.8596\n",
      "Epoch 17/50\n",
      "21/21 [==============================] - 39s 2s/step - loss: 0.3068 - accuracy: 0.8852 - val_loss: 0.3719 - val_accuracy: 0.8351\n",
      "Epoch 18/50\n",
      "21/21 [==============================] - 40s 2s/step - loss: 0.3043 - accuracy: 0.8912 - val_loss: 0.3128 - val_accuracy: 0.8877\n",
      "Epoch 19/50\n",
      "21/21 [==============================] - 42s 2s/step - loss: 0.3091 - accuracy: 0.8927 - val_loss: 0.2943 - val_accuracy: 0.8947\n",
      "Epoch 20/50\n",
      "21/21 [==============================] - 41s 2s/step - loss: 0.3236 - accuracy: 0.8837 - val_loss: 0.3189 - val_accuracy: 0.8912\n",
      "Epoch 21/50\n",
      "21/21 [==============================] - 41s 2s/step - loss: 0.3283 - accuracy: 0.8822 - val_loss: 0.3034 - val_accuracy: 0.8772\n",
      "Epoch 22/50\n",
      "21/21 [==============================] - 41s 2s/step - loss: 0.3072 - accuracy: 0.8807 - val_loss: 0.3222 - val_accuracy: 0.8877\n",
      "Epoch 23/50\n",
      "21/21 [==============================] - 42s 2s/step - loss: 0.3079 - accuracy: 0.8807 - val_loss: 0.3109 - val_accuracy: 0.8912\n",
      "Epoch 24/50\n",
      "21/21 [==============================] - 41s 2s/step - loss: 0.2847 - accuracy: 0.9094 - val_loss: 0.2927 - val_accuracy: 0.8877\n",
      "Epoch 25/50\n",
      "21/21 [==============================] - 44s 2s/step - loss: 0.2913 - accuracy: 0.8973 - val_loss: 0.2475 - val_accuracy: 0.9193\n",
      "Epoch 26/50\n",
      "21/21 [==============================] - 41s 2s/step - loss: 0.2964 - accuracy: 0.8927 - val_loss: 0.2359 - val_accuracy: 0.9088\n",
      "Epoch 27/50\n",
      "21/21 [==============================] - 40s 2s/step - loss: 0.2952 - accuracy: 0.8927 - val_loss: 0.3272 - val_accuracy: 0.8807\n",
      "Epoch 28/50\n",
      "21/21 [==============================] - 41s 2s/step - loss: 0.2878 - accuracy: 0.8958 - val_loss: 0.2746 - val_accuracy: 0.9123\n",
      "Epoch 29/50\n",
      "21/21 [==============================] - 41s 2s/step - loss: 0.3035 - accuracy: 0.8927 - val_loss: 0.3123 - val_accuracy: 0.8807\n",
      "Epoch 30/50\n",
      "21/21 [==============================] - 41s 2s/step - loss: 0.2899 - accuracy: 0.8988 - val_loss: 0.2886 - val_accuracy: 0.8982\n",
      "Epoch 31/50\n",
      "21/21 [==============================] - 42s 2s/step - loss: 0.2955 - accuracy: 0.8988 - val_loss: 0.2472 - val_accuracy: 0.9193\n",
      "Epoch 32/50\n",
      "21/21 [==============================] - 41s 2s/step - loss: 0.2930 - accuracy: 0.8973 - val_loss: 0.2031 - val_accuracy: 0.9298\n",
      "Epoch 33/50\n",
      "21/21 [==============================] - 41s 2s/step - loss: 0.2836 - accuracy: 0.8958 - val_loss: 0.2650 - val_accuracy: 0.9018\n",
      "Epoch 34/50\n",
      "21/21 [==============================] - 40s 2s/step - loss: 0.2617 - accuracy: 0.9094 - val_loss: 0.2940 - val_accuracy: 0.8877\n",
      "Epoch 35/50\n",
      "21/21 [==============================] - 40s 2s/step - loss: 0.3023 - accuracy: 0.8912 - val_loss: 0.2620 - val_accuracy: 0.9158\n",
      "Epoch 36/50\n",
      "21/21 [==============================] - 40s 2s/step - loss: 0.2835 - accuracy: 0.8958 - val_loss: 0.3612 - val_accuracy: 0.8632\n",
      "Epoch 37/50\n",
      "21/21 [==============================] - 40s 2s/step - loss: 0.2836 - accuracy: 0.8943 - val_loss: 0.2590 - val_accuracy: 0.9018\n",
      "Epoch 38/50\n",
      "21/21 [==============================] - 40s 2s/step - loss: 0.2877 - accuracy: 0.8958 - val_loss: 0.2367 - val_accuracy: 0.8982\n",
      "Epoch 39/50\n",
      "21/21 [==============================] - 41s 2s/step - loss: 0.2820 - accuracy: 0.9018 - val_loss: 0.2389 - val_accuracy: 0.9193\n",
      "Epoch 40/50\n",
      "21/21 [==============================] - 40s 2s/step - loss: 0.2807 - accuracy: 0.8912 - val_loss: 0.2378 - val_accuracy: 0.9123\n",
      "Epoch 41/50\n",
      "21/21 [==============================] - 40s 2s/step - loss: 0.3052 - accuracy: 0.8912 - val_loss: 0.4128 - val_accuracy: 0.8526\n",
      "Epoch 42/50\n",
      "21/21 [==============================] - 40s 2s/step - loss: 0.2522 - accuracy: 0.9079 - val_loss: 0.3145 - val_accuracy: 0.8877\n",
      "Epoch 43/50\n",
      "21/21 [==============================] - 40s 2s/step - loss: 0.2884 - accuracy: 0.8837 - val_loss: 0.3033 - val_accuracy: 0.9123\n",
      "Epoch 44/50\n",
      "21/21 [==============================] - 40s 2s/step - loss: 0.2655 - accuracy: 0.9079 - val_loss: 0.2969 - val_accuracy: 0.8702\n",
      "Epoch 45/50\n",
      "21/21 [==============================] - 40s 2s/step - loss: 0.2692 - accuracy: 0.8897 - val_loss: 0.2482 - val_accuracy: 0.9228\n",
      "Epoch 46/50\n",
      "21/21 [==============================] - 41s 2s/step - loss: 0.2733 - accuracy: 0.9018 - val_loss: 0.2635 - val_accuracy: 0.9053\n",
      "Epoch 47/50\n",
      "21/21 [==============================] - 40s 2s/step - loss: 0.2612 - accuracy: 0.9063 - val_loss: 0.1993 - val_accuracy: 0.9333\n",
      "Epoch 48/50\n",
      "21/21 [==============================] - 40s 2s/step - loss: 0.2492 - accuracy: 0.9124 - val_loss: 0.2667 - val_accuracy: 0.9018\n",
      "Epoch 49/50\n",
      "21/21 [==============================] - 41s 2s/step - loss: 0.2595 - accuracy: 0.9048 - val_loss: 0.2486 - val_accuracy: 0.8947\n",
      "Epoch 50/50\n",
      "21/21 [==============================] - 41s 2s/step - loss: 0.2553 - accuracy: 0.9018 - val_loss: 0.2572 - val_accuracy: 0.8982\n"
     ]
    },
    {
     "data": {
      "text/plain": [
       "<keras.callbacks.History at 0x7fe4704b7fd0>"
      ]
     },
     "execution_count": 19,
     "metadata": {},
     "output_type": "execute_result"
    }
   ],
   "source": [
    "model.fit(ds_train, validation_data = ds_validation, epochs=EPOCHS)"
   ]
  },
  {
   "attachments": {},
   "cell_type": "markdown",
   "metadata": {},
   "source": [
    "## Save results as images"
   ]
  },
  {
   "cell_type": "code",
   "execution_count": 21,
   "metadata": {
    "scrolled": true
   },
   "outputs": [
    {
     "name": "stdout",
     "output_type": "stream",
     "text": [
      "1/1 [==============================] - 1s 534ms/step\n",
      "1/1 [==============================] - 0s 437ms/step\n",
      "1/1 [==============================] - 0s 422ms/step\n",
      "1/1 [==============================] - 0s 408ms/step\n",
      "1/1 [==============================] - 0s 405ms/step\n",
      "1/1 [==============================] - 0s 412ms/step\n",
      "1/1 [==============================] - 0s 406ms/step\n",
      "1/1 [==============================] - 0s 411ms/step\n",
      "1/1 [==============================] - 0s 381ms/step\n"
     ]
    }
   ],
   "source": [
    "def mkdir(path):\n",
    "    if os.path.exists(path) is False:\n",
    "        os.mkdir(path)\n",
    "\n",
    "mkdir(RESULT_SAVE_PATH)\n",
    "mkdir(RESULT_SAVE_PATH + '/TP')\n",
    "mkdir(RESULT_SAVE_PATH + '/TN')\n",
    "mkdir(RESULT_SAVE_PATH + '/FP')\n",
    "mkdir(RESULT_SAVE_PATH + '/FN')\n",
    "\n",
    "index = 0\n",
    "for imgs, labels in ds_validation:\n",
    "    preds = model.predict(imgs)\n",
    "    for idx in range (imgs.shape[0]):\n",
    "        gt = labels[idx].numpy()\n",
    "        y = preds[idx]\n",
    "        if gt == 1 and y > 0.5:\n",
    "            path = RESULT_SAVE_PATH + '/TP'\n",
    "        elif gt == 1 and y <= 0.5:\n",
    "            path = RESULT_SAVE_PATH + '/FN'\n",
    "        elif gt == 0 and y > 0.5:\n",
    "            path = RESULT_SAVE_PATH + '/FP'\n",
    "        else:\n",
    "            path = RESULT_SAVE_PATH + '/TN'\n",
    "        cv2.imwrite(path + '/%.f_%04d.png' % (y, index), imgs[idx].numpy() *255)\n",
    "        index +=1"
   ]
  }
 ],
 "metadata": {
  "kernelspec": {
   "display_name": "Python 3",
   "language": "python",
   "name": "python3"
  },
  "language_info": {
   "codemirror_mode": {
    "name": "ipython",
    "version": 3
   },
   "file_extension": ".py",
   "mimetype": "text/x-python",
   "name": "python",
   "nbconvert_exporter": "python",
   "pygments_lexer": "ipython3",
   "version": "3.9.13"
  }
 },
 "nbformat": 4,
 "nbformat_minor": 2
}
