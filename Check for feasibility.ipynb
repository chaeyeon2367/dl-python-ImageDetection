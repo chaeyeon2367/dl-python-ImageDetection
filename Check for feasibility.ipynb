{
 "cells": [
  {
   "attachments": {},
   "cell_type": "markdown",
   "metadata": {},
   "source": [
    "# Check for feasibility"
   ]
  },
  {
   "cell_type": "code",
   "execution_count": 1,
   "metadata": {},
   "outputs": [],
   "source": [
    "import glob\n",
    "import os\n",
    "import tensorflow as tf\n",
    "import cv2\n",
    "from tensorflow.keras.layers import Conv2D, MaxPool2D, Flatten, Dense\n",
    "from tensorflow.keras.models import Sequential"
   ]
  },
  {
   "attachments": {},
   "cell_type": "markdown",
   "metadata": {},
   "source": [
    "## Set hyperparameter"
   ]
  },
  {
   "cell_type": "code",
   "execution_count": 13,
   "metadata": {},
   "outputs": [],
   "source": [
    "EPOCHS = 50\n",
    "\n",
    "DATASET_PATH = '/Users/shim/dl-python-ImageDetection/dataset/2/'\n",
    "DATASET_OK_PATTERN = '/Users/shim/dl-python-ImageDetection/dataset/2/OK/'\n",
    "DATASET_FAIL_PATTERN = '/Users/shim/dl-python-ImageDetection/dataset/2/FAIL/'\n",
    "\n",
    "RESULT_SAVE_PATH = '/Users/shim/dl-python-ImageDetection/dataset/results/'"
   ]
  },
  {
   "attachments": {},
   "cell_type": "markdown",
   "metadata": {},
   "source": [
    "## Simple Model Setting "
   ]
  },
  {
   "cell_type": "code",
   "execution_count": 3,
   "metadata": {},
   "outputs": [],
   "source": [
    "def Model():\n",
    "    return Sequential([Conv2D(32, (3,3), activation='relu',input_shape=(256, 256, 1)),\n",
    "                       MaxPool2D(),\n",
    "                       Conv2D(64, (3,3), activation='relu'),\n",
    "                       MaxPool2D(),\n",
    "                       Conv2D(128, (3,3), activation='relu'),\n",
    "                       MaxPool2D(),\n",
    "                       Conv2D(256, (3,3), activation='relu'),\n",
    "                       MaxPool2D(),\n",
    "                       Flatten(),\n",
    "                       Dense(1, activation='sigmoid')])"
   ]
  },
  {
   "attachments": {},
   "cell_type": "markdown",
   "metadata": {},
   "source": [
    "## Import dataset"
   ]
  },
  {
   "cell_type": "code",
   "execution_count": 5,
   "metadata": {},
   "outputs": [],
   "source": [
    "def preprocess(file_name):\n",
    "    img = tf.io.read_file(file_name)\n",
    "    img = tf.image.decode_png(img, channels=1)\n",
    "    return tf.image.convert_image_dtype(img, tf.float32)"
   ]
  },
  {
   "cell_type": "code",
   "execution_count": 9,
   "metadata": {},
   "outputs": [],
   "source": [
    "def get_file_list(directory, extension):\n",
    "    file_list = []\n",
    "    for root, dirs, files in os.walk(directory):\n",
    "        for file in files:\n",
    "            if file.endswith(extension):\n",
    "                file_list.append(os.path.join(root, file))\n",
    "    return file_list"
   ]
  },
  {
   "cell_type": "code",
   "execution_count": 11,
   "metadata": {},
   "outputs": [
    {
     "name": "stdout",
     "output_type": "stream",
     "text": [
      "['/Users/shim/dl-python-ImageDetection/dataset/2/OK/0298.png', '/Users/shim/dl-python-ImageDetection/dataset/2/OK/0267.png', '/Users/shim/dl-python-ImageDetection/dataset/2/OK/0501.png', '/Users/shim/dl-python-ImageDetection/dataset/2/OK/0515.png', '/Users/shim/dl-python-ImageDetection/dataset/2/OK/0273.png', '/Users/shim/dl-python-ImageDetection/dataset/2/OK/0529.png', '/Users/shim/dl-python-ImageDetection/dataset/2/OK/0703.png', '/Users/shim/dl-python-ImageDetection/dataset/2/OK/0065.png', '/Users/shim/dl-python-ImageDetection/dataset/2/OK/0071.png', '/Users/shim/dl-python-ImageDetection/dataset/2/OK/0717.png', '/Users/shim/dl-python-ImageDetection/dataset/2/OK/0059.png', '/Users/shim/dl-python-ImageDetection/dataset/2/OK/0688.png', '/Users/shim/dl-python-ImageDetection/dataset/2/OK/0677.png', '/Users/shim/dl-python-ImageDetection/dataset/2/OK/0111.png', '/Users/shim/dl-python-ImageDetection/dataset/2/OK/0105.png', '/Users/shim/dl-python-ImageDetection/dataset/2/OK/0663.png', '/Users/shim/dl-python-ImageDetection/dataset/2/OK/0139.png', '/Users/shim/dl-python-ImageDetection/dataset/2/OK/0313.png', '/Users/shim/dl-python-ImageDetection/dataset/2/OK/0475.png', '/Users/shim/dl-python-ImageDetection/dataset/2/OK/0461.png', '/Users/shim/dl-python-ImageDetection/dataset/2/OK/0307.png', '/Users/shim/dl-python-ImageDetection/dataset/2/OK/0449.png', '/Users/shim/dl-python-ImageDetection/dataset/2/OK/0448.png', '/Users/shim/dl-python-ImageDetection/dataset/2/OK/0460.png', '/Users/shim/dl-python-ImageDetection/dataset/2/OK/0306.png', '/Users/shim/dl-python-ImageDetection/dataset/2/OK/0312.png', '/Users/shim/dl-python-ImageDetection/dataset/2/OK/0474.png', '/Users/shim/dl-python-ImageDetection/dataset/2/OK/0138.png', '/Users/shim/dl-python-ImageDetection/dataset/2/OK/0104.png', '/Users/shim/dl-python-ImageDetection/dataset/2/OK/0662.png', '/Users/shim/dl-python-ImageDetection/dataset/2/OK/0676.png', '/Users/shim/dl-python-ImageDetection/dataset/2/OK/0110.png', '/Users/shim/dl-python-ImageDetection/dataset/2/OK/0689.png', '/Users/shim/dl-python-ImageDetection/dataset/2/OK/0058.png', '/Users/shim/dl-python-ImageDetection/dataset/2/OK/0070.png', '/Users/shim/dl-python-ImageDetection/dataset/2/OK/0716.png', '/Users/shim/dl-python-ImageDetection/dataset/2/OK/0702.png', '/Users/shim/dl-python-ImageDetection/dataset/2/OK/0064.png', '/Users/shim/dl-python-ImageDetection/dataset/2/OK/0528.png', '/Users/shim/dl-python-ImageDetection/dataset/2/OK/0514.png', '/Users/shim/dl-python-ImageDetection/dataset/2/OK/0272.png', '/Users/shim/dl-python-ImageDetection/dataset/2/OK/0266.png', '/Users/shim/dl-python-ImageDetection/dataset/2/OK/0500.png', '/Users/shim/dl-python-ImageDetection/dataset/2/OK/0299.png', '/Users/shim/dl-python-ImageDetection/dataset/2/OK/0270.png', '/Users/shim/dl-python-ImageDetection/dataset/2/OK/0516.png', '/Users/shim/dl-python-ImageDetection/dataset/2/OK/0502.png', '/Users/shim/dl-python-ImageDetection/dataset/2/OK/0264.png', '/Users/shim/dl-python-ImageDetection/dataset/2/OK/0258.png', '/Users/shim/dl-python-ImageDetection/dataset/2/OK/0099.png', '/Users/shim/dl-python-ImageDetection/dataset/2/OK/0714.png', '/Users/shim/dl-python-ImageDetection/dataset/2/OK/0072.png', '/Users/shim/dl-python-ImageDetection/dataset/2/OK/0066.png', '/Users/shim/dl-python-ImageDetection/dataset/2/OK/0700.png', '/Users/shim/dl-python-ImageDetection/dataset/2/OK/0728.png', '/Users/shim/dl-python-ImageDetection/dataset/2/OK/0660.png', '/Users/shim/dl-python-ImageDetection/dataset/2/OK/0106.png', '/Users/shim/dl-python-ImageDetection/dataset/2/OK/0112.png', '/Users/shim/dl-python-ImageDetection/dataset/2/OK/0674.png', '/Users/shim/dl-python-ImageDetection/dataset/2/OK/0648.png', '/Users/shim/dl-python-ImageDetection/dataset/2/OK/0489.png', '/Users/shim/dl-python-ImageDetection/dataset/2/OK/0304.png', '/Users/shim/dl-python-ImageDetection/dataset/2/OK/0462.png', '/Users/shim/dl-python-ImageDetection/dataset/2/OK/0476.png', '/Users/shim/dl-python-ImageDetection/dataset/2/OK/0310.png', '/Users/shim/dl-python-ImageDetection/dataset/2/OK/0338.png', '/Users/shim/dl-python-ImageDetection/dataset/2/OK/0339.png', '/Users/shim/dl-python-ImageDetection/dataset/2/OK/0477.png', '/Users/shim/dl-python-ImageDetection/dataset/2/OK/0311.png', '/Users/shim/dl-python-ImageDetection/dataset/2/OK/0305.png', '/Users/shim/dl-python-ImageDetection/dataset/2/OK/0463.png', '/Users/shim/dl-python-ImageDetection/dataset/2/OK/0488.png', '/Users/shim/dl-python-ImageDetection/dataset/2/OK/0649.png', '/Users/shim/dl-python-ImageDetection/dataset/2/OK/0113.png', '/Users/shim/dl-python-ImageDetection/dataset/2/OK/0675.png', '/Users/shim/dl-python-ImageDetection/dataset/2/OK/0661.png', '/Users/shim/dl-python-ImageDetection/dataset/2/OK/0107.png', '/Users/shim/dl-python-ImageDetection/dataset/2/OK/0729.png', '/Users/shim/dl-python-ImageDetection/dataset/2/OK/0067.png', '/Users/shim/dl-python-ImageDetection/dataset/2/OK/0701.png', '/Users/shim/dl-python-ImageDetection/dataset/2/OK/0715.png', '/Users/shim/dl-python-ImageDetection/dataset/2/OK/0073.png', '/Users/shim/dl-python-ImageDetection/dataset/2/OK/0098.png', '/Users/shim/dl-python-ImageDetection/dataset/2/OK/0259.png', '/Users/shim/dl-python-ImageDetection/dataset/2/OK/0503.png', '/Users/shim/dl-python-ImageDetection/dataset/2/OK/0265.png', '/Users/shim/dl-python-ImageDetection/dataset/2/OK/0271.png', '/Users/shim/dl-python-ImageDetection/dataset/2/OK/0517.png', '/Users/shim/dl-python-ImageDetection/dataset/2/OK/0249.png', '/Users/shim/dl-python-ImageDetection/dataset/2/OK/0513.png', '/Users/shim/dl-python-ImageDetection/dataset/2/OK/0275.png', '/Users/shim/dl-python-ImageDetection/dataset/2/OK/0261.png', '/Users/shim/dl-python-ImageDetection/dataset/2/OK/0507.png', '/Users/shim/dl-python-ImageDetection/dataset/2/OK/0088.png', '/Users/shim/dl-python-ImageDetection/dataset/2/OK/0739.png', '/Users/shim/dl-python-ImageDetection/dataset/2/OK/0077.png', '/Users/shim/dl-python-ImageDetection/dataset/2/OK/0711.png', '/Users/shim/dl-python-ImageDetection/dataset/2/OK/0705.png', '/Users/shim/dl-python-ImageDetection/dataset/2/OK/0063.png', '/Users/shim/dl-python-ImageDetection/dataset/2/OK/0659.png', '/Users/shim/dl-python-ImageDetection/dataset/2/OK/0103.png', '/Users/shim/dl-python-ImageDetection/dataset/2/OK/0665.png', '/Users/shim/dl-python-ImageDetection/dataset/2/OK/0671.png', '/Users/shim/dl-python-ImageDetection/dataset/2/OK/0117.png', '/Users/shim/dl-python-ImageDetection/dataset/2/OK/0498.png', '/Users/shim/dl-python-ImageDetection/dataset/2/OK/0329.png', '/Users/shim/dl-python-ImageDetection/dataset/2/OK/0467.png', '/Users/shim/dl-python-ImageDetection/dataset/2/OK/0301.png', '/Users/shim/dl-python-ImageDetection/dataset/2/OK/0315.png', '/Users/shim/dl-python-ImageDetection/dataset/2/OK/0473.png', '/Users/shim/dl-python-ImageDetection/dataset/2/OK/0314.png', '/Users/shim/dl-python-ImageDetection/dataset/2/OK/0472.png', '/Users/shim/dl-python-ImageDetection/dataset/2/OK/0466.png', '/Users/shim/dl-python-ImageDetection/dataset/2/OK/0300.png', '/Users/shim/dl-python-ImageDetection/dataset/2/OK/0328.png', '/Users/shim/dl-python-ImageDetection/dataset/2/OK/0499.png', '/Users/shim/dl-python-ImageDetection/dataset/2/OK/0670.png', '/Users/shim/dl-python-ImageDetection/dataset/2/OK/0116.png', '/Users/shim/dl-python-ImageDetection/dataset/2/OK/0102.png', '/Users/shim/dl-python-ImageDetection/dataset/2/OK/0664.png', '/Users/shim/dl-python-ImageDetection/dataset/2/OK/0658.png', '/Users/shim/dl-python-ImageDetection/dataset/2/OK/0704.png', '/Users/shim/dl-python-ImageDetection/dataset/2/OK/0062.png', '/Users/shim/dl-python-ImageDetection/dataset/2/OK/0076.png', '/Users/shim/dl-python-ImageDetection/dataset/2/OK/0710.png', '/Users/shim/dl-python-ImageDetection/dataset/2/OK/0738.png', '/Users/shim/dl-python-ImageDetection/dataset/2/OK/0089.png', '/Users/shim/dl-python-ImageDetection/dataset/2/OK/0260.png', '/Users/shim/dl-python-ImageDetection/dataset/2/OK/0506.png', '/Users/shim/dl-python-ImageDetection/dataset/2/OK/0512.png', '/Users/shim/dl-python-ImageDetection/dataset/2/OK/0274.png', '/Users/shim/dl-python-ImageDetection/dataset/2/OK/0248.png', '/Users/shim/dl-python-ImageDetection/dataset/2/OK/0289.png', '/Users/shim/dl-python-ImageDetection/dataset/2/OK/0538.png', '/Users/shim/dl-python-ImageDetection/dataset/2/OK/0504.png', '/Users/shim/dl-python-ImageDetection/dataset/2/OK/0262.png', '/Users/shim/dl-python-ImageDetection/dataset/2/OK/0276.png', '/Users/shim/dl-python-ImageDetection/dataset/2/OK/0510.png', '/Users/shim/dl-python-ImageDetection/dataset/2/OK/0048.png', '/Users/shim/dl-python-ImageDetection/dataset/2/OK/0060.png', '/Users/shim/dl-python-ImageDetection/dataset/2/OK/0706.png', '/Users/shim/dl-python-ImageDetection/dataset/2/OK/0712.png', '/Users/shim/dl-python-ImageDetection/dataset/2/OK/0074.png', '/Users/shim/dl-python-ImageDetection/dataset/2/OK/0699.png', '/Users/shim/dl-python-ImageDetection/dataset/2/OK/0128.png', '/Users/shim/dl-python-ImageDetection/dataset/2/OK/0114.png', '/Users/shim/dl-python-ImageDetection/dataset/2/OK/0672.png', '/Users/shim/dl-python-ImageDetection/dataset/2/OK/0666.png', '/Users/shim/dl-python-ImageDetection/dataset/2/OK/0100.png', '/Users/shim/dl-python-ImageDetection/dataset/2/OK/0458.png', '/Users/shim/dl-python-ImageDetection/dataset/2/OK/0470.png', '/Users/shim/dl-python-ImageDetection/dataset/2/OK/0316.png', '/Users/shim/dl-python-ImageDetection/dataset/2/OK/0302.png', '/Users/shim/dl-python-ImageDetection/dataset/2/OK/0464.png', '/Users/shim/dl-python-ImageDetection/dataset/2/OK/0303.png', '/Users/shim/dl-python-ImageDetection/dataset/2/OK/0465.png', '/Users/shim/dl-python-ImageDetection/dataset/2/OK/0471.png', '/Users/shim/dl-python-ImageDetection/dataset/2/OK/0317.png', '/Users/shim/dl-python-ImageDetection/dataset/2/OK/0459.png', '/Users/shim/dl-python-ImageDetection/dataset/2/OK/0667.png', '/Users/shim/dl-python-ImageDetection/dataset/2/OK/0101.png', '/Users/shim/dl-python-ImageDetection/dataset/2/OK/0115.png', '/Users/shim/dl-python-ImageDetection/dataset/2/OK/0673.png', '/Users/shim/dl-python-ImageDetection/dataset/2/OK/0129.png', '/Users/shim/dl-python-ImageDetection/dataset/2/OK/0698.png', '/Users/shim/dl-python-ImageDetection/dataset/2/OK/0713.png', '/Users/shim/dl-python-ImageDetection/dataset/2/OK/0075.png', '/Users/shim/dl-python-ImageDetection/dataset/2/OK/0061.png', '/Users/shim/dl-python-ImageDetection/dataset/2/OK/0707.png', '/Users/shim/dl-python-ImageDetection/dataset/2/OK/0049.png', '/Users/shim/dl-python-ImageDetection/dataset/2/OK/0277.png', '/Users/shim/dl-python-ImageDetection/dataset/2/OK/0511.png', '/Users/shim/dl-python-ImageDetection/dataset/2/OK/0505.png', '/Users/shim/dl-python-ImageDetection/dataset/2/OK/0263.png', '/Users/shim/dl-python-ImageDetection/dataset/2/OK/0539.png', '/Users/shim/dl-python-ImageDetection/dataset/2/OK/0288.png', '/Users/shim/dl-python-ImageDetection/dataset/2/OK/0589.png', '/Users/shim/dl-python-ImageDetection/dataset/2/OK/0562.png', '/Users/shim/dl-python-ImageDetection/dataset/2/OK/0204.png', '/Users/shim/dl-python-ImageDetection/dataset/2/OK/0210.png', '/Users/shim/dl-python-ImageDetection/dataset/2/OK/0576.png', '/Users/shim/dl-python-ImageDetection/dataset/2/OK/0238.png', '/Users/shim/dl-python-ImageDetection/dataset/2/OK/0006.png', '/Users/shim/dl-python-ImageDetection/dataset/2/OK/0760.png', '/Users/shim/dl-python-ImageDetection/dataset/2/OK/0774.png', '/Users/shim/dl-python-ImageDetection/dataset/2/OK/0012.png', '/Users/shim/dl-python-ImageDetection/dataset/2/OK/0748.png', '/Users/shim/dl-python-ImageDetection/dataset/2/OK/0827.png', '/Users/shim/dl-python-ImageDetection/dataset/2/OK/0199.png', '/Users/shim/dl-python-ImageDetection/dataset/2/OK/0172.png', '/Users/shim/dl-python-ImageDetection/dataset/2/OK/0614.png', '/Users/shim/dl-python-ImageDetection/dataset/2/OK/0600.png', '/Users/shim/dl-python-ImageDetection/dataset/2/OK/0166.png', '/Users/shim/dl-python-ImageDetection/dataset/2/OK/0628.png', '/Users/shim/dl-python-ImageDetection/dataset/2/OK/0416.png', '/Users/shim/dl-python-ImageDetection/dataset/2/OK/0370.png', '/Users/shim/dl-python-ImageDetection/dataset/2/OK/0364.png', '/Users/shim/dl-python-ImageDetection/dataset/2/OK/0402.png', '/Users/shim/dl-python-ImageDetection/dataset/2/OK/0358.png', '/Users/shim/dl-python-ImageDetection/dataset/2/OK/0359.png', '/Users/shim/dl-python-ImageDetection/dataset/2/OK/0365.png', '/Users/shim/dl-python-ImageDetection/dataset/2/OK/0403.png', '/Users/shim/dl-python-ImageDetection/dataset/2/OK/0417.png', '/Users/shim/dl-python-ImageDetection/dataset/2/OK/0371.png', '/Users/shim/dl-python-ImageDetection/dataset/2/OK/0629.png', '/Users/shim/dl-python-ImageDetection/dataset/2/OK/0601.png', '/Users/shim/dl-python-ImageDetection/dataset/2/OK/0167.png', '/Users/shim/dl-python-ImageDetection/dataset/2/OK/0173.png', '/Users/shim/dl-python-ImageDetection/dataset/2/OK/0615.png', '/Users/shim/dl-python-ImageDetection/dataset/2/OK/0826.png', '/Users/shim/dl-python-ImageDetection/dataset/2/OK/0198.png', '/Users/shim/dl-python-ImageDetection/dataset/2/OK/0749.png', '/Users/shim/dl-python-ImageDetection/dataset/2/OK/0775.png', '/Users/shim/dl-python-ImageDetection/dataset/2/OK/0013.png', '/Users/shim/dl-python-ImageDetection/dataset/2/OK/0007.png', '/Users/shim/dl-python-ImageDetection/dataset/2/OK/0761.png', '/Users/shim/dl-python-ImageDetection/dataset/2/OK/0239.png', '/Users/shim/dl-python-ImageDetection/dataset/2/OK/0211.png', '/Users/shim/dl-python-ImageDetection/dataset/2/OK/0577.png', '/Users/shim/dl-python-ImageDetection/dataset/2/OK/0563.png', '/Users/shim/dl-python-ImageDetection/dataset/2/OK/0205.png', '/Users/shim/dl-python-ImageDetection/dataset/2/OK/0588.png', '/Users/shim/dl-python-ImageDetection/dataset/2/OK/0575.png', '/Users/shim/dl-python-ImageDetection/dataset/2/OK/0213.png', '/Users/shim/dl-python-ImageDetection/dataset/2/OK/0207.png', '/Users/shim/dl-python-ImageDetection/dataset/2/OK/0561.png', '/Users/shim/dl-python-ImageDetection/dataset/2/OK/0549.png', '/Users/shim/dl-python-ImageDetection/dataset/2/OK/0788.png', '/Users/shim/dl-python-ImageDetection/dataset/2/OK/0011.png', '/Users/shim/dl-python-ImageDetection/dataset/2/OK/0777.png', '/Users/shim/dl-python-ImageDetection/dataset/2/OK/0763.png', '/Users/shim/dl-python-ImageDetection/dataset/2/OK/0005.png', '/Users/shim/dl-python-ImageDetection/dataset/2/OK/0039.png', '/Users/shim/dl-python-ImageDetection/dataset/2/OK/0818.png', '/Users/shim/dl-python-ImageDetection/dataset/2/OK/0824.png', '/Users/shim/dl-python-ImageDetection/dataset/2/OK/0165.png', '/Users/shim/dl-python-ImageDetection/dataset/2/OK/0603.png', '/Users/shim/dl-python-ImageDetection/dataset/2/OK/0617.png', '/Users/shim/dl-python-ImageDetection/dataset/2/OK/0171.png', '/Users/shim/dl-python-ImageDetection/dataset/2/OK/0159.png', '/Users/shim/dl-python-ImageDetection/dataset/2/OK/0398.png', '/Users/shim/dl-python-ImageDetection/dataset/2/OK/0401.png', '/Users/shim/dl-python-ImageDetection/dataset/2/OK/0367.png', '/Users/shim/dl-python-ImageDetection/dataset/2/OK/0373.png', '/Users/shim/dl-python-ImageDetection/dataset/2/OK/0415.png', '/Users/shim/dl-python-ImageDetection/dataset/2/OK/0429.png', '/Users/shim/dl-python-ImageDetection/dataset/2/OK/0428.png', '/Users/shim/dl-python-ImageDetection/dataset/2/OK/0372.png', '/Users/shim/dl-python-ImageDetection/dataset/2/OK/0414.png', '/Users/shim/dl-python-ImageDetection/dataset/2/OK/0400.png', '/Users/shim/dl-python-ImageDetection/dataset/2/OK/0366.png', '/Users/shim/dl-python-ImageDetection/dataset/2/OK/0399.png', '/Users/shim/dl-python-ImageDetection/dataset/2/OK/0158.png', '/Users/shim/dl-python-ImageDetection/dataset/2/OK/0616.png', '/Users/shim/dl-python-ImageDetection/dataset/2/OK/0170.png', '/Users/shim/dl-python-ImageDetection/dataset/2/OK/0164.png', '/Users/shim/dl-python-ImageDetection/dataset/2/OK/0602.png', '/Users/shim/dl-python-ImageDetection/dataset/2/OK/0825.png', '/Users/shim/dl-python-ImageDetection/dataset/2/OK/0819.png', '/Users/shim/dl-python-ImageDetection/dataset/2/OK/0038.png', '/Users/shim/dl-python-ImageDetection/dataset/2/OK/0762.png', '/Users/shim/dl-python-ImageDetection/dataset/2/OK/0004.png', '/Users/shim/dl-python-ImageDetection/dataset/2/OK/0010.png', '/Users/shim/dl-python-ImageDetection/dataset/2/OK/0776.png', '/Users/shim/dl-python-ImageDetection/dataset/2/OK/0789.png', '/Users/shim/dl-python-ImageDetection/dataset/2/OK/0548.png', '/Users/shim/dl-python-ImageDetection/dataset/2/OK/0206.png', '/Users/shim/dl-python-ImageDetection/dataset/2/OK/0560.png', '/Users/shim/dl-python-ImageDetection/dataset/2/OK/0574.png', '/Users/shim/dl-python-ImageDetection/dataset/2/OK/0212.png', '/Users/shim/dl-python-ImageDetection/dataset/2/OK/0558.png', '/Users/shim/dl-python-ImageDetection/dataset/2/OK/0216.png', '/Users/shim/dl-python-ImageDetection/dataset/2/OK/0570.png', '/Users/shim/dl-python-ImageDetection/dataset/2/OK/0564.png', '/Users/shim/dl-python-ImageDetection/dataset/2/OK/0202.png', '/Users/shim/dl-python-ImageDetection/dataset/2/OK/0799.png', '/Users/shim/dl-python-ImageDetection/dataset/2/OK/0028.png', '/Users/shim/dl-python-ImageDetection/dataset/2/OK/0772.png', '/Users/shim/dl-python-ImageDetection/dataset/2/OK/0014.png', '/Users/shim/dl-python-ImageDetection/dataset/2/OK/0000.png', '/Users/shim/dl-python-ImageDetection/dataset/2/OK/0766.png', '/Users/shim/dl-python-ImageDetection/dataset/2/OK/0821.png', '/Users/shim/dl-python-ImageDetection/dataset/2/OK/0809.png', '/Users/shim/dl-python-ImageDetection/dataset/2/OK/0148.png', '/Users/shim/dl-python-ImageDetection/dataset/2/OK/0606.png', '/Users/shim/dl-python-ImageDetection/dataset/2/OK/0160.png', '/Users/shim/dl-python-ImageDetection/dataset/2/OK/0174.png', '/Users/shim/dl-python-ImageDetection/dataset/2/OK/0612.png', '/Users/shim/dl-python-ImageDetection/dataset/2/OK/0389.png', '/Users/shim/dl-python-ImageDetection/dataset/2/OK/0438.png', '/Users/shim/dl-python-ImageDetection/dataset/2/OK/0362.png', '/Users/shim/dl-python-ImageDetection/dataset/2/OK/0404.png', '/Users/shim/dl-python-ImageDetection/dataset/2/OK/0410.png', '/Users/shim/dl-python-ImageDetection/dataset/2/OK/0376.png', '/Users/shim/dl-python-ImageDetection/dataset/2/OK/0411.png', '/Users/shim/dl-python-ImageDetection/dataset/2/OK/0377.png', '/Users/shim/dl-python-ImageDetection/dataset/2/OK/0363.png', '/Users/shim/dl-python-ImageDetection/dataset/2/OK/0405.png', '/Users/shim/dl-python-ImageDetection/dataset/2/OK/0439.png', '/Users/shim/dl-python-ImageDetection/dataset/2/OK/0388.png', '/Users/shim/dl-python-ImageDetection/dataset/2/OK/0175.png', '/Users/shim/dl-python-ImageDetection/dataset/2/OK/0613.png', '/Users/shim/dl-python-ImageDetection/dataset/2/OK/0607.png', '/Users/shim/dl-python-ImageDetection/dataset/2/OK/0161.png', '/Users/shim/dl-python-ImageDetection/dataset/2/OK/0149.png', '/Users/shim/dl-python-ImageDetection/dataset/2/OK/0808.png', '/Users/shim/dl-python-ImageDetection/dataset/2/OK/0820.png', '/Users/shim/dl-python-ImageDetection/dataset/2/OK/0001.png', '/Users/shim/dl-python-ImageDetection/dataset/2/OK/0767.png', '/Users/shim/dl-python-ImageDetection/dataset/2/OK/0773.png', '/Users/shim/dl-python-ImageDetection/dataset/2/OK/0015.png', '/Users/shim/dl-python-ImageDetection/dataset/2/OK/0029.png', '/Users/shim/dl-python-ImageDetection/dataset/2/OK/0798.png', '/Users/shim/dl-python-ImageDetection/dataset/2/OK/0565.png', '/Users/shim/dl-python-ImageDetection/dataset/2/OK/0203.png', '/Users/shim/dl-python-ImageDetection/dataset/2/OK/0217.png', '/Users/shim/dl-python-ImageDetection/dataset/2/OK/0571.png', '/Users/shim/dl-python-ImageDetection/dataset/2/OK/0559.png', '/Users/shim/dl-python-ImageDetection/dataset/2/OK/0598.png', '/Users/shim/dl-python-ImageDetection/dataset/2/OK/0229.png', '/Users/shim/dl-python-ImageDetection/dataset/2/OK/0201.png', '/Users/shim/dl-python-ImageDetection/dataset/2/OK/0567.png', '/Users/shim/dl-python-ImageDetection/dataset/2/OK/0573.png', '/Users/shim/dl-python-ImageDetection/dataset/2/OK/0215.png', '/Users/shim/dl-python-ImageDetection/dataset/2/OK/0759.png', '/Users/shim/dl-python-ImageDetection/dataset/2/OK/0765.png', '/Users/shim/dl-python-ImageDetection/dataset/2/OK/0003.png', '/Users/shim/dl-python-ImageDetection/dataset/2/OK/0017.png', '/Users/shim/dl-python-ImageDetection/dataset/2/OK/0771.png', '/Users/shim/dl-python-ImageDetection/dataset/2/OK/0188.png', '/Users/shim/dl-python-ImageDetection/dataset/2/OK/0822.png', '/Users/shim/dl-python-ImageDetection/dataset/2/OK/0639.png', '/Users/shim/dl-python-ImageDetection/dataset/2/OK/0611.png', '/Users/shim/dl-python-ImageDetection/dataset/2/OK/0177.png', '/Users/shim/dl-python-ImageDetection/dataset/2/OK/0163.png', '/Users/shim/dl-python-ImageDetection/dataset/2/OK/0605.png', '/Users/shim/dl-python-ImageDetection/dataset/2/OK/0349.png', '/Users/shim/dl-python-ImageDetection/dataset/2/OK/0375.png', '/Users/shim/dl-python-ImageDetection/dataset/2/OK/0413.png', '/Users/shim/dl-python-ImageDetection/dataset/2/OK/0407.png', '/Users/shim/dl-python-ImageDetection/dataset/2/OK/0361.png', '/Users/shim/dl-python-ImageDetection/dataset/2/OK/0406.png', '/Users/shim/dl-python-ImageDetection/dataset/2/OK/0360.png', '/Users/shim/dl-python-ImageDetection/dataset/2/OK/0374.png', '/Users/shim/dl-python-ImageDetection/dataset/2/OK/0412.png', '/Users/shim/dl-python-ImageDetection/dataset/2/OK/0348.png', '/Users/shim/dl-python-ImageDetection/dataset/2/OK/0162.png', '/Users/shim/dl-python-ImageDetection/dataset/2/OK/0604.png', '/Users/shim/dl-python-ImageDetection/dataset/2/OK/0610.png', '/Users/shim/dl-python-ImageDetection/dataset/2/OK/0176.png', '/Users/shim/dl-python-ImageDetection/dataset/2/OK/0638.png', '/Users/shim/dl-python-ImageDetection/dataset/2/OK/0823.png', '/Users/shim/dl-python-ImageDetection/dataset/2/OK/0189.png', '/Users/shim/dl-python-ImageDetection/dataset/2/OK/0016.png', '/Users/shim/dl-python-ImageDetection/dataset/2/OK/0770.png', '/Users/shim/dl-python-ImageDetection/dataset/2/OK/0764.png', '/Users/shim/dl-python-ImageDetection/dataset/2/OK/0002.png', '/Users/shim/dl-python-ImageDetection/dataset/2/OK/0758.png', '/Users/shim/dl-python-ImageDetection/dataset/2/OK/0572.png', '/Users/shim/dl-python-ImageDetection/dataset/2/OK/0214.png', '/Users/shim/dl-python-ImageDetection/dataset/2/OK/0200.png', '/Users/shim/dl-python-ImageDetection/dataset/2/OK/0566.png', '/Users/shim/dl-python-ImageDetection/dataset/2/OK/0228.png', '/Users/shim/dl-python-ImageDetection/dataset/2/OK/0599.png', '/Users/shim/dl-python-ImageDetection/dataset/2/OK/0580.png', '/Users/shim/dl-python-ImageDetection/dataset/2/OK/0594.png', '/Users/shim/dl-python-ImageDetection/dataset/2/OK/0543.png', '/Users/shim/dl-python-ImageDetection/dataset/2/OK/0225.png', '/Users/shim/dl-python-ImageDetection/dataset/2/OK/0231.png', '/Users/shim/dl-python-ImageDetection/dataset/2/OK/0557.png', '/Users/shim/dl-python-ImageDetection/dataset/2/OK/0219.png', '/Users/shim/dl-python-ImageDetection/dataset/2/OK/0782.png', '/Users/shim/dl-python-ImageDetection/dataset/2/OK/0796.png', '/Users/shim/dl-python-ImageDetection/dataset/2/OK/0027.png', '/Users/shim/dl-python-ImageDetection/dataset/2/OK/0741.png', '/Users/shim/dl-python-ImageDetection/dataset/2/OK/0755.png', '/Users/shim/dl-python-ImageDetection/dataset/2/OK/0033.png', '/Users/shim/dl-python-ImageDetection/dataset/2/OK/0769.png', '/Users/shim/dl-python-ImageDetection/dataset/2/OK/0190.png', '/Users/shim/dl-python-ImageDetection/dataset/2/OK/0184.png', '/Users/shim/dl-python-ImageDetection/dataset/2/OK/0812.png', '/Users/shim/dl-python-ImageDetection/dataset/2/OK/0806.png', '/Users/shim/dl-python-ImageDetection/dataset/2/OK/0153.png', '/Users/shim/dl-python-ImageDetection/dataset/2/OK/0635.png', '/Users/shim/dl-python-ImageDetection/dataset/2/OK/0621.png', '/Users/shim/dl-python-ImageDetection/dataset/2/OK/0147.png', '/Users/shim/dl-python-ImageDetection/dataset/2/OK/0609.png', '/Users/shim/dl-python-ImageDetection/dataset/2/OK/0392.png', '/Users/shim/dl-python-ImageDetection/dataset/2/OK/0386.png', '/Users/shim/dl-python-ImageDetection/dataset/2/OK/0437.png', '/Users/shim/dl-python-ImageDetection/dataset/2/OK/0351.png', '/Users/shim/dl-python-ImageDetection/dataset/2/OK/0345.png', '/Users/shim/dl-python-ImageDetection/dataset/2/OK/0423.png', '/Users/shim/dl-python-ImageDetection/dataset/2/OK/0379.png', '/Users/shim/dl-python-ImageDetection/dataset/2/OK/0378.png', '/Users/shim/dl-python-ImageDetection/dataset/2/OK/0344.png', '/Users/shim/dl-python-ImageDetection/dataset/2/OK/0422.png', '/Users/shim/dl-python-ImageDetection/dataset/2/OK/0436.png', '/Users/shim/dl-python-ImageDetection/dataset/2/OK/0350.png', '/Users/shim/dl-python-ImageDetection/dataset/2/OK/0387.png', '/Users/shim/dl-python-ImageDetection/dataset/2/OK/0393.png', '/Users/shim/dl-python-ImageDetection/dataset/2/OK/0608.png', '/Users/shim/dl-python-ImageDetection/dataset/2/OK/0620.png', '/Users/shim/dl-python-ImageDetection/dataset/2/OK/0146.png', '/Users/shim/dl-python-ImageDetection/dataset/2/OK/0152.png', '/Users/shim/dl-python-ImageDetection/dataset/2/OK/0634.png', '/Users/shim/dl-python-ImageDetection/dataset/2/OK/0807.png', '/Users/shim/dl-python-ImageDetection/dataset/2/OK/0813.png', '/Users/shim/dl-python-ImageDetection/dataset/2/OK/0185.png', '/Users/shim/dl-python-ImageDetection/dataset/2/OK/0191.png', '/Users/shim/dl-python-ImageDetection/dataset/2/OK/0768.png', '/Users/shim/dl-python-ImageDetection/dataset/2/OK/0754.png', '/Users/shim/dl-python-ImageDetection/dataset/2/OK/0032.png', '/Users/shim/dl-python-ImageDetection/dataset/2/OK/0026.png', '/Users/shim/dl-python-ImageDetection/dataset/2/OK/0740.png', '/Users/shim/dl-python-ImageDetection/dataset/2/OK/0797.png', '/Users/shim/dl-python-ImageDetection/dataset/2/OK/0783.png', '/Users/shim/dl-python-ImageDetection/dataset/2/OK/0218.png', '/Users/shim/dl-python-ImageDetection/dataset/2/OK/0230.png', '/Users/shim/dl-python-ImageDetection/dataset/2/OK/0556.png', '/Users/shim/dl-python-ImageDetection/dataset/2/OK/0542.png', '/Users/shim/dl-python-ImageDetection/dataset/2/OK/0224.png', '/Users/shim/dl-python-ImageDetection/dataset/2/OK/0595.png', '/Users/shim/dl-python-ImageDetection/dataset/2/OK/0581.png', '/Users/shim/dl-python-ImageDetection/dataset/2/OK/0597.png', '/Users/shim/dl-python-ImageDetection/dataset/2/OK/0583.png', '/Users/shim/dl-python-ImageDetection/dataset/2/OK/0554.png', '/Users/shim/dl-python-ImageDetection/dataset/2/OK/0232.png', '/Users/shim/dl-python-ImageDetection/dataset/2/OK/0226.png', '/Users/shim/dl-python-ImageDetection/dataset/2/OK/0540.png', '/Users/shim/dl-python-ImageDetection/dataset/2/OK/0568.png', '/Users/shim/dl-python-ImageDetection/dataset/2/OK/0795.png', '/Users/shim/dl-python-ImageDetection/dataset/2/OK/0781.png', '/Users/shim/dl-python-ImageDetection/dataset/2/OK/0030.png', '/Users/shim/dl-python-ImageDetection/dataset/2/OK/0756.png', '/Users/shim/dl-python-ImageDetection/dataset/2/OK/0742.png', '/Users/shim/dl-python-ImageDetection/dataset/2/OK/0024.png', '/Users/shim/dl-python-ImageDetection/dataset/2/OK/0018.png', '/Users/shim/dl-python-ImageDetection/dataset/2/OK/0187.png', '/Users/shim/dl-python-ImageDetection/dataset/2/OK/0193.png', '/Users/shim/dl-python-ImageDetection/dataset/2/OK/0805.png', '/Users/shim/dl-python-ImageDetection/dataset/2/OK/0811.png', '/Users/shim/dl-python-ImageDetection/dataset/2/OK/0144.png', '/Users/shim/dl-python-ImageDetection/dataset/2/OK/0622.png', '/Users/shim/dl-python-ImageDetection/dataset/2/OK/0636.png', '/Users/shim/dl-python-ImageDetection/dataset/2/OK/0150.png', '/Users/shim/dl-python-ImageDetection/dataset/2/OK/0178.png', '/Users/shim/dl-python-ImageDetection/dataset/2/OK/0385.png', '/Users/shim/dl-python-ImageDetection/dataset/2/OK/0391.png', '/Users/shim/dl-python-ImageDetection/dataset/2/OK/0420.png', '/Users/shim/dl-python-ImageDetection/dataset/2/OK/0346.png', '/Users/shim/dl-python-ImageDetection/dataset/2/OK/0352.png', '/Users/shim/dl-python-ImageDetection/dataset/2/OK/0434.png', '/Users/shim/dl-python-ImageDetection/dataset/2/OK/0408.png', '/Users/shim/dl-python-ImageDetection/dataset/2/OK/0409.png', '/Users/shim/dl-python-ImageDetection/dataset/2/OK/0353.png', '/Users/shim/dl-python-ImageDetection/dataset/2/OK/0435.png', '/Users/shim/dl-python-ImageDetection/dataset/2/OK/0421.png', '/Users/shim/dl-python-ImageDetection/dataset/2/OK/0347.png', '/Users/shim/dl-python-ImageDetection/dataset/2/OK/0390.png', '/Users/shim/dl-python-ImageDetection/dataset/2/OK/0384.png', '/Users/shim/dl-python-ImageDetection/dataset/2/OK/0179.png', '/Users/shim/dl-python-ImageDetection/dataset/2/OK/0637.png', '/Users/shim/dl-python-ImageDetection/dataset/2/OK/0151.png', '/Users/shim/dl-python-ImageDetection/dataset/2/OK/0145.png', '/Users/shim/dl-python-ImageDetection/dataset/2/OK/0623.png', '/Users/shim/dl-python-ImageDetection/dataset/2/OK/0810.png', '/Users/shim/dl-python-ImageDetection/dataset/2/OK/0804.png', '/Users/shim/dl-python-ImageDetection/dataset/2/OK/0192.png', '/Users/shim/dl-python-ImageDetection/dataset/2/OK/0186.png', '/Users/shim/dl-python-ImageDetection/dataset/2/OK/0019.png', '/Users/shim/dl-python-ImageDetection/dataset/2/OK/0743.png', '/Users/shim/dl-python-ImageDetection/dataset/2/OK/0025.png', '/Users/shim/dl-python-ImageDetection/dataset/2/OK/0031.png', '/Users/shim/dl-python-ImageDetection/dataset/2/OK/0757.png', '/Users/shim/dl-python-ImageDetection/dataset/2/OK/0780.png', '/Users/shim/dl-python-ImageDetection/dataset/2/OK/0794.png', '/Users/shim/dl-python-ImageDetection/dataset/2/OK/0569.png', '/Users/shim/dl-python-ImageDetection/dataset/2/OK/0227.png', '/Users/shim/dl-python-ImageDetection/dataset/2/OK/0541.png', '/Users/shim/dl-python-ImageDetection/dataset/2/OK/0555.png', '/Users/shim/dl-python-ImageDetection/dataset/2/OK/0233.png', '/Users/shim/dl-python-ImageDetection/dataset/2/OK/0582.png', '/Users/shim/dl-python-ImageDetection/dataset/2/OK/0596.png', '/Users/shim/dl-python-ImageDetection/dataset/2/OK/0592.png', '/Users/shim/dl-python-ImageDetection/dataset/2/OK/0586.png', '/Users/shim/dl-python-ImageDetection/dataset/2/OK/0579.png', '/Users/shim/dl-python-ImageDetection/dataset/2/OK/0237.png', '/Users/shim/dl-python-ImageDetection/dataset/2/OK/0551.png', '/Users/shim/dl-python-ImageDetection/dataset/2/OK/0545.png', '/Users/shim/dl-python-ImageDetection/dataset/2/OK/0223.png', '/Users/shim/dl-python-ImageDetection/dataset/2/OK/0790.png', '/Users/shim/dl-python-ImageDetection/dataset/2/OK/0784.png', '/Users/shim/dl-python-ImageDetection/dataset/2/OK/0009.png', '/Users/shim/dl-python-ImageDetection/dataset/2/OK/0753.png', '/Users/shim/dl-python-ImageDetection/dataset/2/OK/0035.png', '/Users/shim/dl-python-ImageDetection/dataset/2/OK/0021.png', '/Users/shim/dl-python-ImageDetection/dataset/2/OK/0747.png', '/Users/shim/dl-python-ImageDetection/dataset/2/OK/0800.png', '/Users/shim/dl-python-ImageDetection/dataset/2/OK/0814.png', '/Users/shim/dl-python-ImageDetection/dataset/2/OK/0182.png', '/Users/shim/dl-python-ImageDetection/dataset/2/OK/0196.png', '/Users/shim/dl-python-ImageDetection/dataset/2/OK/0169.png', '/Users/shim/dl-python-ImageDetection/dataset/2/OK/0627.png', '/Users/shim/dl-python-ImageDetection/dataset/2/OK/0141.png', '/Users/shim/dl-python-ImageDetection/dataset/2/OK/0155.png', '/Users/shim/dl-python-ImageDetection/dataset/2/OK/0633.png', '/Users/shim/dl-python-ImageDetection/dataset/2/OK/0380.png', '/Users/shim/dl-python-ImageDetection/dataset/2/OK/0394.png', '/Users/shim/dl-python-ImageDetection/dataset/2/OK/0419.png', '/Users/shim/dl-python-ImageDetection/dataset/2/OK/0343.png', '/Users/shim/dl-python-ImageDetection/dataset/2/OK/0425.png', '/Users/shim/dl-python-ImageDetection/dataset/2/OK/0431.png', '/Users/shim/dl-python-ImageDetection/dataset/2/OK/0357.png', '/Users/shim/dl-python-ImageDetection/dataset/2/OK/0430.png', '/Users/shim/dl-python-ImageDetection/dataset/2/OK/0356.png', '/Users/shim/dl-python-ImageDetection/dataset/2/OK/0342.png', '/Users/shim/dl-python-ImageDetection/dataset/2/OK/0424.png', '/Users/shim/dl-python-ImageDetection/dataset/2/OK/0418.png', '/Users/shim/dl-python-ImageDetection/dataset/2/OK/0395.png', '/Users/shim/dl-python-ImageDetection/dataset/2/OK/0381.png', '/Users/shim/dl-python-ImageDetection/dataset/2/OK/0154.png', '/Users/shim/dl-python-ImageDetection/dataset/2/OK/0632.png', '/Users/shim/dl-python-ImageDetection/dataset/2/OK/0626.png', '/Users/shim/dl-python-ImageDetection/dataset/2/OK/0140.png', '/Users/shim/dl-python-ImageDetection/dataset/2/OK/0168.png', '/Users/shim/dl-python-ImageDetection/dataset/2/OK/0197.png', '/Users/shim/dl-python-ImageDetection/dataset/2/OK/0183.png', '/Users/shim/dl-python-ImageDetection/dataset/2/OK/0815.png', '/Users/shim/dl-python-ImageDetection/dataset/2/OK/0801.png', '/Users/shim/dl-python-ImageDetection/dataset/2/OK/0020.png', '/Users/shim/dl-python-ImageDetection/dataset/2/OK/0746.png', '/Users/shim/dl-python-ImageDetection/dataset/2/OK/0752.png', '/Users/shim/dl-python-ImageDetection/dataset/2/OK/0034.png', '/Users/shim/dl-python-ImageDetection/dataset/2/OK/0008.png', '/Users/shim/dl-python-ImageDetection/dataset/2/OK/0785.png', '/Users/shim/dl-python-ImageDetection/dataset/2/OK/0791.png', '/Users/shim/dl-python-ImageDetection/dataset/2/OK/0544.png', '/Users/shim/dl-python-ImageDetection/dataset/2/OK/0222.png', '/Users/shim/dl-python-ImageDetection/dataset/2/OK/0236.png', '/Users/shim/dl-python-ImageDetection/dataset/2/OK/0550.png', '/Users/shim/dl-python-ImageDetection/dataset/2/OK/0578.png', '/Users/shim/dl-python-ImageDetection/dataset/2/OK/0587.png', '/Users/shim/dl-python-ImageDetection/dataset/2/OK/0593.png', '/Users/shim/dl-python-ImageDetection/dataset/2/OK/0585.png', '/Users/shim/dl-python-ImageDetection/dataset/2/OK/0591.png', '/Users/shim/dl-python-ImageDetection/dataset/2/OK/0208.png', '/Users/shim/dl-python-ImageDetection/dataset/2/OK/0220.png', '/Users/shim/dl-python-ImageDetection/dataset/2/OK/0546.png', '/Users/shim/dl-python-ImageDetection/dataset/2/OK/0552.png', '/Users/shim/dl-python-ImageDetection/dataset/2/OK/0234.png', '/Users/shim/dl-python-ImageDetection/dataset/2/OK/0787.png', '/Users/shim/dl-python-ImageDetection/dataset/2/OK/0793.png', '/Users/shim/dl-python-ImageDetection/dataset/2/OK/0778.png', '/Users/shim/dl-python-ImageDetection/dataset/2/OK/0744.png', '/Users/shim/dl-python-ImageDetection/dataset/2/OK/0022.png', '/Users/shim/dl-python-ImageDetection/dataset/2/OK/0036.png', '/Users/shim/dl-python-ImageDetection/dataset/2/OK/0750.png', '/Users/shim/dl-python-ImageDetection/dataset/2/OK/0817.png', '/Users/shim/dl-python-ImageDetection/dataset/2/OK/0803.png', '/Users/shim/dl-python-ImageDetection/dataset/2/OK/0195.png', '/Users/shim/dl-python-ImageDetection/dataset/2/OK/0181.png', '/Users/shim/dl-python-ImageDetection/dataset/2/OK/0618.png', '/Users/shim/dl-python-ImageDetection/dataset/2/OK/0630.png', '/Users/shim/dl-python-ImageDetection/dataset/2/OK/0156.png', '/Users/shim/dl-python-ImageDetection/dataset/2/OK/0142.png', '/Users/shim/dl-python-ImageDetection/dataset/2/OK/0624.png', '/Users/shim/dl-python-ImageDetection/dataset/2/OK/0397.png', '/Users/shim/dl-python-ImageDetection/dataset/2/OK/0383.png', '/Users/shim/dl-python-ImageDetection/dataset/2/OK/0368.png', '/Users/shim/dl-python-ImageDetection/dataset/2/OK/0354.png', '/Users/shim/dl-python-ImageDetection/dataset/2/OK/0432.png', '/Users/shim/dl-python-ImageDetection/dataset/2/OK/0426.png', '/Users/shim/dl-python-ImageDetection/dataset/2/OK/0340.png', '/Users/shim/dl-python-ImageDetection/dataset/2/OK/0427.png', '/Users/shim/dl-python-ImageDetection/dataset/2/OK/0341.png', '/Users/shim/dl-python-ImageDetection/dataset/2/OK/0355.png', '/Users/shim/dl-python-ImageDetection/dataset/2/OK/0433.png', '/Users/shim/dl-python-ImageDetection/dataset/2/OK/0369.png', '/Users/shim/dl-python-ImageDetection/dataset/2/OK/0382.png', '/Users/shim/dl-python-ImageDetection/dataset/2/OK/0396.png', '/Users/shim/dl-python-ImageDetection/dataset/2/OK/0143.png', '/Users/shim/dl-python-ImageDetection/dataset/2/OK/0625.png', '/Users/shim/dl-python-ImageDetection/dataset/2/OK/0631.png', '/Users/shim/dl-python-ImageDetection/dataset/2/OK/0157.png', '/Users/shim/dl-python-ImageDetection/dataset/2/OK/0619.png', '/Users/shim/dl-python-ImageDetection/dataset/2/OK/0180.png', '/Users/shim/dl-python-ImageDetection/dataset/2/OK/0194.png', '/Users/shim/dl-python-ImageDetection/dataset/2/OK/0802.png', '/Users/shim/dl-python-ImageDetection/dataset/2/OK/0816.png', '/Users/shim/dl-python-ImageDetection/dataset/2/OK/0037.png', '/Users/shim/dl-python-ImageDetection/dataset/2/OK/0751.png', '/Users/shim/dl-python-ImageDetection/dataset/2/OK/0745.png', '/Users/shim/dl-python-ImageDetection/dataset/2/OK/0023.png', '/Users/shim/dl-python-ImageDetection/dataset/2/OK/0779.png', '/Users/shim/dl-python-ImageDetection/dataset/2/OK/0792.png', '/Users/shim/dl-python-ImageDetection/dataset/2/OK/0786.png', '/Users/shim/dl-python-ImageDetection/dataset/2/OK/0553.png', '/Users/shim/dl-python-ImageDetection/dataset/2/OK/0235.png', '/Users/shim/dl-python-ImageDetection/dataset/2/OK/0221.png', '/Users/shim/dl-python-ImageDetection/dataset/2/OK/0547.png', '/Users/shim/dl-python-ImageDetection/dataset/2/OK/0209.png', '/Users/shim/dl-python-ImageDetection/dataset/2/OK/0590.png', '/Users/shim/dl-python-ImageDetection/dataset/2/OK/0584.png', '/Users/shim/dl-python-ImageDetection/dataset/2/OK/0285.png', '/Users/shim/dl-python-ImageDetection/dataset/2/OK/0291.png', '/Users/shim/dl-python-ImageDetection/dataset/2/OK/0246.png', '/Users/shim/dl-python-ImageDetection/dataset/2/OK/0520.png', '/Users/shim/dl-python-ImageDetection/dataset/2/OK/0534.png', '/Users/shim/dl-python-ImageDetection/dataset/2/OK/0252.png', '/Users/shim/dl-python-ImageDetection/dataset/2/OK/0508.png', '/Users/shim/dl-python-ImageDetection/dataset/2/OK/0087.png', '/Users/shim/dl-python-ImageDetection/dataset/2/OK/0093.png', '/Users/shim/dl-python-ImageDetection/dataset/2/OK/0722.png', '/Users/shim/dl-python-ImageDetection/dataset/2/OK/0044.png', '/Users/shim/dl-python-ImageDetection/dataset/2/OK/0050.png', '/Users/shim/dl-python-ImageDetection/dataset/2/OK/0736.png', '/Users/shim/dl-python-ImageDetection/dataset/2/OK/0078.png', '/Users/shim/dl-python-ImageDetection/dataset/2/OK/0695.png', '/Users/shim/dl-python-ImageDetection/dataset/2/OK/0681.png', '/Users/shim/dl-python-ImageDetection/dataset/2/OK/0656.png', '/Users/shim/dl-python-ImageDetection/dataset/2/OK/0130.png', '/Users/shim/dl-python-ImageDetection/dataset/2/OK/0124.png', '/Users/shim/dl-python-ImageDetection/dataset/2/OK/0642.png', '/Users/shim/dl-python-ImageDetection/dataset/2/OK/0118.png', '/Users/shim/dl-python-ImageDetection/dataset/2/OK/0497.png', '/Users/shim/dl-python-ImageDetection/dataset/2/OK/0483.png', '/Users/shim/dl-python-ImageDetection/dataset/2/OK/0332.png', '/Users/shim/dl-python-ImageDetection/dataset/2/OK/0454.png', '/Users/shim/dl-python-ImageDetection/dataset/2/OK/0440.png', '/Users/shim/dl-python-ImageDetection/dataset/2/OK/0326.png', '/Users/shim/dl-python-ImageDetection/dataset/2/OK/0468.png', '/Users/shim/dl-python-ImageDetection/dataset/2/OK/0469.png', '/Users/shim/dl-python-ImageDetection/dataset/2/OK/0441.png', '/Users/shim/dl-python-ImageDetection/dataset/2/OK/0327.png', '/Users/shim/dl-python-ImageDetection/dataset/2/OK/0333.png', '/Users/shim/dl-python-ImageDetection/dataset/2/OK/0455.png', '/Users/shim/dl-python-ImageDetection/dataset/2/OK/0482.png', '/Users/shim/dl-python-ImageDetection/dataset/2/OK/0496.png', '/Users/shim/dl-python-ImageDetection/dataset/2/OK/0119.png', '/Users/shim/dl-python-ImageDetection/dataset/2/OK/0125.png', '/Users/shim/dl-python-ImageDetection/dataset/2/OK/0643.png', '/Users/shim/dl-python-ImageDetection/dataset/2/OK/0657.png', '/Users/shim/dl-python-ImageDetection/dataset/2/OK/0131.png', '/Users/shim/dl-python-ImageDetection/dataset/2/OK/0680.png', '/Users/shim/dl-python-ImageDetection/dataset/2/OK/0694.png', '/Users/shim/dl-python-ImageDetection/dataset/2/OK/0079.png', '/Users/shim/dl-python-ImageDetection/dataset/2/OK/0051.png', '/Users/shim/dl-python-ImageDetection/dataset/2/OK/0737.png', '/Users/shim/dl-python-ImageDetection/dataset/2/OK/0723.png', '/Users/shim/dl-python-ImageDetection/dataset/2/OK/0045.png', '/Users/shim/dl-python-ImageDetection/dataset/2/OK/0092.png', '/Users/shim/dl-python-ImageDetection/dataset/2/OK/0086.png', '/Users/shim/dl-python-ImageDetection/dataset/2/OK/0509.png', '/Users/shim/dl-python-ImageDetection/dataset/2/OK/0535.png', '/Users/shim/dl-python-ImageDetection/dataset/2/OK/0253.png', '/Users/shim/dl-python-ImageDetection/dataset/2/OK/0247.png', '/Users/shim/dl-python-ImageDetection/dataset/2/OK/0521.png', '/Users/shim/dl-python-ImageDetection/dataset/2/OK/0290.png', '/Users/shim/dl-python-ImageDetection/dataset/2/OK/0284.png', '/Users/shim/dl-python-ImageDetection/dataset/2/OK/0292.png', '/Users/shim/dl-python-ImageDetection/dataset/2/OK/0286.png', '/Users/shim/dl-python-ImageDetection/dataset/2/OK/0251.png', '/Users/shim/dl-python-ImageDetection/dataset/2/OK/0537.png', '/Users/shim/dl-python-ImageDetection/dataset/2/OK/0523.png', '/Users/shim/dl-python-ImageDetection/dataset/2/OK/0245.png', '/Users/shim/dl-python-ImageDetection/dataset/2/OK/0279.png', '/Users/shim/dl-python-ImageDetection/dataset/2/OK/0090.png', '/Users/shim/dl-python-ImageDetection/dataset/2/OK/0084.png', '/Users/shim/dl-python-ImageDetection/dataset/2/OK/0735.png', '/Users/shim/dl-python-ImageDetection/dataset/2/OK/0053.png', '/Users/shim/dl-python-ImageDetection/dataset/2/OK/0047.png', '/Users/shim/dl-python-ImageDetection/dataset/2/OK/0721.png', '/Users/shim/dl-python-ImageDetection/dataset/2/OK/0709.png', '/Users/shim/dl-python-ImageDetection/dataset/2/OK/0682.png', '/Users/shim/dl-python-ImageDetection/dataset/2/OK/0696.png', '/Users/shim/dl-python-ImageDetection/dataset/2/OK/0641.png', '/Users/shim/dl-python-ImageDetection/dataset/2/OK/0127.png', '/Users/shim/dl-python-ImageDetection/dataset/2/OK/0133.png', '/Users/shim/dl-python-ImageDetection/dataset/2/OK/0655.png', '/Users/shim/dl-python-ImageDetection/dataset/2/OK/0669.png', '/Users/shim/dl-python-ImageDetection/dataset/2/OK/0480.png', '/Users/shim/dl-python-ImageDetection/dataset/2/OK/0494.png', '/Users/shim/dl-python-ImageDetection/dataset/2/OK/0325.png', '/Users/shim/dl-python-ImageDetection/dataset/2/OK/0443.png', '/Users/shim/dl-python-ImageDetection/dataset/2/OK/0457.png', '/Users/shim/dl-python-ImageDetection/dataset/2/OK/0331.png', '/Users/shim/dl-python-ImageDetection/dataset/2/OK/0319.png', '/Users/shim/dl-python-ImageDetection/dataset/2/OK/0318.png', '/Users/shim/dl-python-ImageDetection/dataset/2/OK/0456.png', '/Users/shim/dl-python-ImageDetection/dataset/2/OK/0330.png', '/Users/shim/dl-python-ImageDetection/dataset/2/OK/0324.png', '/Users/shim/dl-python-ImageDetection/dataset/2/OK/0442.png', '/Users/shim/dl-python-ImageDetection/dataset/2/OK/0495.png', '/Users/shim/dl-python-ImageDetection/dataset/2/OK/0481.png', '/Users/shim/dl-python-ImageDetection/dataset/2/OK/0668.png', '/Users/shim/dl-python-ImageDetection/dataset/2/OK/0132.png', '/Users/shim/dl-python-ImageDetection/dataset/2/OK/0654.png', '/Users/shim/dl-python-ImageDetection/dataset/2/OK/0640.png', '/Users/shim/dl-python-ImageDetection/dataset/2/OK/0126.png', '/Users/shim/dl-python-ImageDetection/dataset/2/OK/0697.png', '/Users/shim/dl-python-ImageDetection/dataset/2/OK/0683.png', '/Users/shim/dl-python-ImageDetection/dataset/2/OK/0708.png', '/Users/shim/dl-python-ImageDetection/dataset/2/OK/0046.png', '/Users/shim/dl-python-ImageDetection/dataset/2/OK/0720.png', '/Users/shim/dl-python-ImageDetection/dataset/2/OK/0734.png', '/Users/shim/dl-python-ImageDetection/dataset/2/OK/0052.png', '/Users/shim/dl-python-ImageDetection/dataset/2/OK/0085.png', '/Users/shim/dl-python-ImageDetection/dataset/2/OK/0091.png', '/Users/shim/dl-python-ImageDetection/dataset/2/OK/0278.png', '/Users/shim/dl-python-ImageDetection/dataset/2/OK/0522.png', '/Users/shim/dl-python-ImageDetection/dataset/2/OK/0244.png', '/Users/shim/dl-python-ImageDetection/dataset/2/OK/0250.png', '/Users/shim/dl-python-ImageDetection/dataset/2/OK/0536.png', '/Users/shim/dl-python-ImageDetection/dataset/2/OK/0287.png', '/Users/shim/dl-python-ImageDetection/dataset/2/OK/0293.png', '/Users/shim/dl-python-ImageDetection/dataset/2/OK/0297.png', '/Users/shim/dl-python-ImageDetection/dataset/2/OK/0283.png', '/Users/shim/dl-python-ImageDetection/dataset/2/OK/0268.png', '/Users/shim/dl-python-ImageDetection/dataset/2/OK/0532.png', '/Users/shim/dl-python-ImageDetection/dataset/2/OK/0254.png', '/Users/shim/dl-python-ImageDetection/dataset/2/OK/0240.png', '/Users/shim/dl-python-ImageDetection/dataset/2/OK/0526.png', '/Users/shim/dl-python-ImageDetection/dataset/2/OK/0095.png', '/Users/shim/dl-python-ImageDetection/dataset/2/OK/0081.png', '/Users/shim/dl-python-ImageDetection/dataset/2/OK/0718.png', '/Users/shim/dl-python-ImageDetection/dataset/2/OK/0056.png', '/Users/shim/dl-python-ImageDetection/dataset/2/OK/0730.png', '/Users/shim/dl-python-ImageDetection/dataset/2/OK/0724.png', '/Users/shim/dl-python-ImageDetection/dataset/2/OK/0042.png', '/Users/shim/dl-python-ImageDetection/dataset/2/OK/0687.png', '/Users/shim/dl-python-ImageDetection/dataset/2/OK/0693.png', '/Users/shim/dl-python-ImageDetection/dataset/2/OK/0678.png', '/Users/shim/dl-python-ImageDetection/dataset/2/OK/0122.png', '/Users/shim/dl-python-ImageDetection/dataset/2/OK/0644.png', '/Users/shim/dl-python-ImageDetection/dataset/2/OK/0650.png', '/Users/shim/dl-python-ImageDetection/dataset/2/OK/0136.png', '/Users/shim/dl-python-ImageDetection/dataset/2/OK/0485.png', '/Users/shim/dl-python-ImageDetection/dataset/2/OK/0491.png', '/Users/shim/dl-python-ImageDetection/dataset/2/OK/0308.png', '/Users/shim/dl-python-ImageDetection/dataset/2/OK/0446.png', '/Users/shim/dl-python-ImageDetection/dataset/2/OK/0320.png', '/Users/shim/dl-python-ImageDetection/dataset/2/OK/0334.png', '/Users/shim/dl-python-ImageDetection/dataset/2/OK/0452.png', '/Users/shim/dl-python-ImageDetection/dataset/2/OK/0335.png', '/Users/shim/dl-python-ImageDetection/dataset/2/OK/0453.png', '/Users/shim/dl-python-ImageDetection/dataset/2/OK/0447.png', '/Users/shim/dl-python-ImageDetection/dataset/2/OK/0321.png', '/Users/shim/dl-python-ImageDetection/dataset/2/OK/0309.png', '/Users/shim/dl-python-ImageDetection/dataset/2/OK/0490.png', '/Users/shim/dl-python-ImageDetection/dataset/2/OK/0484.png', '/Users/shim/dl-python-ImageDetection/dataset/2/OK/0651.png', '/Users/shim/dl-python-ImageDetection/dataset/2/OK/0137.png', '/Users/shim/dl-python-ImageDetection/dataset/2/OK/0123.png', '/Users/shim/dl-python-ImageDetection/dataset/2/OK/0645.png', '/Users/shim/dl-python-ImageDetection/dataset/2/OK/0679.png', '/Users/shim/dl-python-ImageDetection/dataset/2/OK/0692.png', '/Users/shim/dl-python-ImageDetection/dataset/2/OK/0686.png', '/Users/shim/dl-python-ImageDetection/dataset/2/OK/0725.png', '/Users/shim/dl-python-ImageDetection/dataset/2/OK/0043.png', '/Users/shim/dl-python-ImageDetection/dataset/2/OK/0057.png', '/Users/shim/dl-python-ImageDetection/dataset/2/OK/0731.png', '/Users/shim/dl-python-ImageDetection/dataset/2/OK/0719.png', '/Users/shim/dl-python-ImageDetection/dataset/2/OK/0080.png', '/Users/shim/dl-python-ImageDetection/dataset/2/OK/0094.png', '/Users/shim/dl-python-ImageDetection/dataset/2/OK/0241.png', '/Users/shim/dl-python-ImageDetection/dataset/2/OK/0527.png', '/Users/shim/dl-python-ImageDetection/dataset/2/OK/0533.png', '/Users/shim/dl-python-ImageDetection/dataset/2/OK/0255.png', '/Users/shim/dl-python-ImageDetection/dataset/2/OK/0269.png', '/Users/shim/dl-python-ImageDetection/dataset/2/OK/0282.png', '/Users/shim/dl-python-ImageDetection/dataset/2/OK/0296.png', '/Users/shim/dl-python-ImageDetection/dataset/2/OK/0280.png', '/Users/shim/dl-python-ImageDetection/dataset/2/OK/0294.png', '/Users/shim/dl-python-ImageDetection/dataset/2/OK/0519.png', '/Users/shim/dl-python-ImageDetection/dataset/2/OK/0525.png', '/Users/shim/dl-python-ImageDetection/dataset/2/OK/0243.png', '/Users/shim/dl-python-ImageDetection/dataset/2/OK/0257.png', '/Users/shim/dl-python-ImageDetection/dataset/2/OK/0531.png', '/Users/shim/dl-python-ImageDetection/dataset/2/OK/0082.png', '/Users/shim/dl-python-ImageDetection/dataset/2/OK/0096.png', '/Users/shim/dl-python-ImageDetection/dataset/2/OK/0069.png', '/Users/shim/dl-python-ImageDetection/dataset/2/OK/0041.png', '/Users/shim/dl-python-ImageDetection/dataset/2/OK/0727.png', '/Users/shim/dl-python-ImageDetection/dataset/2/OK/0733.png', '/Users/shim/dl-python-ImageDetection/dataset/2/OK/0055.png', '/Users/shim/dl-python-ImageDetection/dataset/2/OK/0690.png', '/Users/shim/dl-python-ImageDetection/dataset/2/OK/0684.png', '/Users/shim/dl-python-ImageDetection/dataset/2/OK/0109.png', '/Users/shim/dl-python-ImageDetection/dataset/2/OK/0135.png', '/Users/shim/dl-python-ImageDetection/dataset/2/OK/0653.png', '/Users/shim/dl-python-ImageDetection/dataset/2/OK/0647.png', '/Users/shim/dl-python-ImageDetection/dataset/2/OK/0121.png', '/Users/shim/dl-python-ImageDetection/dataset/2/OK/0492.png', '/Users/shim/dl-python-ImageDetection/dataset/2/OK/0486.png', '/Users/shim/dl-python-ImageDetection/dataset/2/OK/0479.png', '/Users/shim/dl-python-ImageDetection/dataset/2/OK/0451.png', '/Users/shim/dl-python-ImageDetection/dataset/2/OK/0337.png', '/Users/shim/dl-python-ImageDetection/dataset/2/OK/0323.png', '/Users/shim/dl-python-ImageDetection/dataset/2/OK/0445.png', '/Users/shim/dl-python-ImageDetection/dataset/2/OK/0322.png', '/Users/shim/dl-python-ImageDetection/dataset/2/OK/0444.png', '/Users/shim/dl-python-ImageDetection/dataset/2/OK/0450.png', '/Users/shim/dl-python-ImageDetection/dataset/2/OK/0336.png', '/Users/shim/dl-python-ImageDetection/dataset/2/OK/0478.png', '/Users/shim/dl-python-ImageDetection/dataset/2/OK/0487.png', '/Users/shim/dl-python-ImageDetection/dataset/2/OK/0493.png', '/Users/shim/dl-python-ImageDetection/dataset/2/OK/0646.png', '/Users/shim/dl-python-ImageDetection/dataset/2/OK/0120.png', '/Users/shim/dl-python-ImageDetection/dataset/2/OK/0134.png', '/Users/shim/dl-python-ImageDetection/dataset/2/OK/0652.png', '/Users/shim/dl-python-ImageDetection/dataset/2/OK/0108.png', '/Users/shim/dl-python-ImageDetection/dataset/2/OK/0685.png', '/Users/shim/dl-python-ImageDetection/dataset/2/OK/0691.png', '/Users/shim/dl-python-ImageDetection/dataset/2/OK/0732.png', '/Users/shim/dl-python-ImageDetection/dataset/2/OK/0054.png', '/Users/shim/dl-python-ImageDetection/dataset/2/OK/0040.png', '/Users/shim/dl-python-ImageDetection/dataset/2/OK/0726.png', '/Users/shim/dl-python-ImageDetection/dataset/2/OK/0068.png', '/Users/shim/dl-python-ImageDetection/dataset/2/OK/0097.png', '/Users/shim/dl-python-ImageDetection/dataset/2/OK/0083.png', '/Users/shim/dl-python-ImageDetection/dataset/2/OK/0256.png', '/Users/shim/dl-python-ImageDetection/dataset/2/OK/0530.png', '/Users/shim/dl-python-ImageDetection/dataset/2/OK/0524.png', '/Users/shim/dl-python-ImageDetection/dataset/2/OK/0242.png', '/Users/shim/dl-python-ImageDetection/dataset/2/OK/0518.png', '/Users/shim/dl-python-ImageDetection/dataset/2/OK/0295.png', '/Users/shim/dl-python-ImageDetection/dataset/2/OK/0281.png']\n"
     ]
    }
   ],
   "source": [
    "ok_list = get_file_list(DATASET_OK_PATTERN, '.png')\n",
    "print(ok_list)"
   ]
  },
  {
   "cell_type": "code",
   "execution_count": 14,
   "metadata": {},
   "outputs": [],
   "source": [
    "ok_list = get_file_list(DATASET_OK_PATTERN, '.png')\n",
    "ds_ok = tf.data.Dataset.list_files(ok_list)\n",
    "ds_ok_label = tf.data.Dataset.from_tensor_slices([0] * len(ok_list))\n",
    "\n",
    "ds_ok = ds_ok.map(preprocess)\n",
    "ds_ok = tf.data.Dataset.zip((ds_ok, ds_ok_label))\n",
    "\n",
    "fail_list = get_file_list(DATASET_FAIL_PATTERN, '.png')\n",
    "ds_fail = tf.data.Dataset.list_files(fail_list)\n",
    "ds_fail_label = tf.data.Dataset.from_tensor_slices([1] * len(fail_list))\n",
    "\n",
    "ds_fail = ds_fail.map(preprocess)\n",
    "ds_fail = tf.data.Dataset.zip((ds_fail, ds_fail_label))\n",
    "\n",
    "ds = tf.data.Dataset.concatenate(ds_ok, ds_fail)"
   ]
  },
  {
   "attachments": {},
   "cell_type": "markdown",
   "metadata": {},
   "source": [
    "## Split Train, Validation set"
   ]
  },
  {
   "cell_type": "code",
   "execution_count": 15,
   "metadata": {
    "scrolled": false
   },
   "outputs": [],
   "source": [
    "ds_size = len(ok_list) + len(fail_list)\n",
    "train_size = int(ds_size * 0.7)\n",
    "\n",
    "ds = ds.shuffle(ds_size)\n",
    "ds_train = ds.take(train_size).shuffle(1024, reshuffle_each_iteration=True).batch(32)\n",
    "ds_validation = ds.skip(train_size).batch(32)"
   ]
  },
  {
   "cell_type": "code",
   "execution_count": 17,
   "metadata": {},
   "outputs": [
    {
     "data": {
      "text/plain": [
       "662"
      ]
     },
     "execution_count": 17,
     "metadata": {},
     "output_type": "execute_result"
    }
   ],
   "source": [
    "train_size"
   ]
  },
  {
   "attachments": {},
   "cell_type": "markdown",
   "metadata": {},
   "source": [
    "## Build and Train the Model"
   ]
  },
  {
   "cell_type": "code",
   "execution_count": 18,
   "metadata": {
    "scrolled": true
   },
   "outputs": [],
   "source": [
    "model = Model()\n",
    "model.compile(optimizer='adam',\n",
    "              loss='binary_crossentropy',\n",
    "              metrics=['accuracy'])"
   ]
  },
  {
   "cell_type": "code",
   "execution_count": 19,
   "metadata": {
    "scrolled": true
   },
   "outputs": [
    {
     "name": "stdout",
     "output_type": "stream",
     "text": [
      "Epoch 1/50\n",
      "21/21 [==============================] - 32s 1s/step - loss: 0.4665 - accuracy: 0.8202 - val_loss: 0.3626 - val_accuracy: 0.8807\n",
      "Epoch 2/50\n",
      "21/21 [==============================] - 33s 2s/step - loss: 0.3879 - accuracy: 0.8731 - val_loss: 0.3644 - val_accuracy: 0.8632\n",
      "Epoch 3/50\n",
      "21/21 [==============================] - 35s 2s/step - loss: 0.3227 - accuracy: 0.8882 - val_loss: 0.3242 - val_accuracy: 0.8842\n",
      "Epoch 4/50\n",
      "21/21 [==============================] - 37s 2s/step - loss: 0.3510 - accuracy: 0.8776 - val_loss: 0.3232 - val_accuracy: 0.8947\n",
      "Epoch 5/50\n",
      "21/21 [==============================] - 38s 2s/step - loss: 0.3166 - accuracy: 0.8943 - val_loss: 0.3579 - val_accuracy: 0.8807\n",
      "Epoch 6/50\n",
      "21/21 [==============================] - 38s 2s/step - loss: 0.3527 - accuracy: 0.8807 - val_loss: 0.3753 - val_accuracy: 0.8316\n",
      "Epoch 7/50\n",
      "21/21 [==============================] - 39s 2s/step - loss: 0.3480 - accuracy: 0.8671 - val_loss: 0.3423 - val_accuracy: 0.8667\n",
      "Epoch 8/50\n",
      "21/21 [==============================] - 38s 2s/step - loss: 0.3609 - accuracy: 0.8671 - val_loss: 0.4165 - val_accuracy: 0.8246\n",
      "Epoch 9/50\n",
      "21/21 [==============================] - 39s 2s/step - loss: 0.3379 - accuracy: 0.8701 - val_loss: 0.3714 - val_accuracy: 0.8737\n",
      "Epoch 10/50\n",
      "21/21 [==============================] - 39s 2s/step - loss: 0.3305 - accuracy: 0.8882 - val_loss: 0.2982 - val_accuracy: 0.9053\n",
      "Epoch 11/50\n",
      "21/21 [==============================] - 39s 2s/step - loss: 0.3349 - accuracy: 0.8671 - val_loss: 0.3162 - val_accuracy: 0.8842\n",
      "Epoch 12/50\n",
      "21/21 [==============================] - 38s 2s/step - loss: 0.3395 - accuracy: 0.8807 - val_loss: 0.3697 - val_accuracy: 0.8702\n",
      "Epoch 13/50\n",
      "21/21 [==============================] - 39s 2s/step - loss: 0.3382 - accuracy: 0.8716 - val_loss: 0.3570 - val_accuracy: 0.8561\n",
      "Epoch 14/50\n",
      "21/21 [==============================] - 40s 2s/step - loss: 0.3043 - accuracy: 0.8927 - val_loss: 0.2894 - val_accuracy: 0.8877\n",
      "Epoch 15/50\n",
      "21/21 [==============================] - 40s 2s/step - loss: 0.3130 - accuracy: 0.8912 - val_loss: 0.3846 - val_accuracy: 0.8351\n",
      "Epoch 16/50\n",
      "21/21 [==============================] - 39s 2s/step - loss: 0.2880 - accuracy: 0.8958 - val_loss: 0.3672 - val_accuracy: 0.8596\n",
      "Epoch 17/50\n",
      "21/21 [==============================] - 39s 2s/step - loss: 0.3068 - accuracy: 0.8852 - val_loss: 0.3719 - val_accuracy: 0.8351\n",
      "Epoch 18/50\n",
      "21/21 [==============================] - 40s 2s/step - loss: 0.3043 - accuracy: 0.8912 - val_loss: 0.3128 - val_accuracy: 0.8877\n",
      "Epoch 19/50\n",
      "21/21 [==============================] - 42s 2s/step - loss: 0.3091 - accuracy: 0.8927 - val_loss: 0.2943 - val_accuracy: 0.8947\n",
      "Epoch 20/50\n",
      "21/21 [==============================] - 41s 2s/step - loss: 0.3236 - accuracy: 0.8837 - val_loss: 0.3189 - val_accuracy: 0.8912\n",
      "Epoch 21/50\n",
      "21/21 [==============================] - 41s 2s/step - loss: 0.3283 - accuracy: 0.8822 - val_loss: 0.3034 - val_accuracy: 0.8772\n",
      "Epoch 22/50\n",
      "21/21 [==============================] - 41s 2s/step - loss: 0.3072 - accuracy: 0.8807 - val_loss: 0.3222 - val_accuracy: 0.8877\n",
      "Epoch 23/50\n",
      "21/21 [==============================] - 42s 2s/step - loss: 0.3079 - accuracy: 0.8807 - val_loss: 0.3109 - val_accuracy: 0.8912\n",
      "Epoch 24/50\n",
      "21/21 [==============================] - 41s 2s/step - loss: 0.2847 - accuracy: 0.9094 - val_loss: 0.2927 - val_accuracy: 0.8877\n",
      "Epoch 25/50\n",
      "21/21 [==============================] - 44s 2s/step - loss: 0.2913 - accuracy: 0.8973 - val_loss: 0.2475 - val_accuracy: 0.9193\n",
      "Epoch 26/50\n",
      "21/21 [==============================] - 41s 2s/step - loss: 0.2964 - accuracy: 0.8927 - val_loss: 0.2359 - val_accuracy: 0.9088\n",
      "Epoch 27/50\n",
      "21/21 [==============================] - 40s 2s/step - loss: 0.2952 - accuracy: 0.8927 - val_loss: 0.3272 - val_accuracy: 0.8807\n",
      "Epoch 28/50\n",
      "21/21 [==============================] - 41s 2s/step - loss: 0.2878 - accuracy: 0.8958 - val_loss: 0.2746 - val_accuracy: 0.9123\n",
      "Epoch 29/50\n",
      "21/21 [==============================] - 41s 2s/step - loss: 0.3035 - accuracy: 0.8927 - val_loss: 0.3123 - val_accuracy: 0.8807\n",
      "Epoch 30/50\n",
      "21/21 [==============================] - 41s 2s/step - loss: 0.2899 - accuracy: 0.8988 - val_loss: 0.2886 - val_accuracy: 0.8982\n",
      "Epoch 31/50\n",
      "21/21 [==============================] - 42s 2s/step - loss: 0.2955 - accuracy: 0.8988 - val_loss: 0.2472 - val_accuracy: 0.9193\n",
      "Epoch 32/50\n",
      "21/21 [==============================] - 41s 2s/step - loss: 0.2930 - accuracy: 0.8973 - val_loss: 0.2031 - val_accuracy: 0.9298\n",
      "Epoch 33/50\n",
      "21/21 [==============================] - 41s 2s/step - loss: 0.2836 - accuracy: 0.8958 - val_loss: 0.2650 - val_accuracy: 0.9018\n",
      "Epoch 34/50\n",
      "21/21 [==============================] - 40s 2s/step - loss: 0.2617 - accuracy: 0.9094 - val_loss: 0.2940 - val_accuracy: 0.8877\n",
      "Epoch 35/50\n",
      "21/21 [==============================] - 40s 2s/step - loss: 0.3023 - accuracy: 0.8912 - val_loss: 0.2620 - val_accuracy: 0.9158\n",
      "Epoch 36/50\n",
      "21/21 [==============================] - 40s 2s/step - loss: 0.2835 - accuracy: 0.8958 - val_loss: 0.3612 - val_accuracy: 0.8632\n",
      "Epoch 37/50\n",
      "21/21 [==============================] - 40s 2s/step - loss: 0.2836 - accuracy: 0.8943 - val_loss: 0.2590 - val_accuracy: 0.9018\n",
      "Epoch 38/50\n",
      "21/21 [==============================] - 40s 2s/step - loss: 0.2877 - accuracy: 0.8958 - val_loss: 0.2367 - val_accuracy: 0.8982\n",
      "Epoch 39/50\n",
      "21/21 [==============================] - 41s 2s/step - loss: 0.2820 - accuracy: 0.9018 - val_loss: 0.2389 - val_accuracy: 0.9193\n",
      "Epoch 40/50\n",
      "21/21 [==============================] - 40s 2s/step - loss: 0.2807 - accuracy: 0.8912 - val_loss: 0.2378 - val_accuracy: 0.9123\n",
      "Epoch 41/50\n",
      "21/21 [==============================] - 40s 2s/step - loss: 0.3052 - accuracy: 0.8912 - val_loss: 0.4128 - val_accuracy: 0.8526\n",
      "Epoch 42/50\n",
      "21/21 [==============================] - 40s 2s/step - loss: 0.2522 - accuracy: 0.9079 - val_loss: 0.3145 - val_accuracy: 0.8877\n",
      "Epoch 43/50\n",
      "21/21 [==============================] - 40s 2s/step - loss: 0.2884 - accuracy: 0.8837 - val_loss: 0.3033 - val_accuracy: 0.9123\n",
      "Epoch 44/50\n",
      "21/21 [==============================] - 40s 2s/step - loss: 0.2655 - accuracy: 0.9079 - val_loss: 0.2969 - val_accuracy: 0.8702\n",
      "Epoch 45/50\n",
      "21/21 [==============================] - 40s 2s/step - loss: 0.2692 - accuracy: 0.8897 - val_loss: 0.2482 - val_accuracy: 0.9228\n",
      "Epoch 46/50\n",
      "21/21 [==============================] - 41s 2s/step - loss: 0.2733 - accuracy: 0.9018 - val_loss: 0.2635 - val_accuracy: 0.9053\n",
      "Epoch 47/50\n",
      "21/21 [==============================] - 40s 2s/step - loss: 0.2612 - accuracy: 0.9063 - val_loss: 0.1993 - val_accuracy: 0.9333\n",
      "Epoch 48/50\n",
      "21/21 [==============================] - 40s 2s/step - loss: 0.2492 - accuracy: 0.9124 - val_loss: 0.2667 - val_accuracy: 0.9018\n",
      "Epoch 49/50\n",
      "21/21 [==============================] - 41s 2s/step - loss: 0.2595 - accuracy: 0.9048 - val_loss: 0.2486 - val_accuracy: 0.8947\n",
      "Epoch 50/50\n",
      "21/21 [==============================] - 41s 2s/step - loss: 0.2553 - accuracy: 0.9018 - val_loss: 0.2572 - val_accuracy: 0.8982\n"
     ]
    },
    {
     "data": {
      "text/plain": [
       "<keras.callbacks.History at 0x7fe4704b7fd0>"
      ]
     },
     "execution_count": 19,
     "metadata": {},
     "output_type": "execute_result"
    }
   ],
   "source": [
    "model.fit(ds_train, validation_data = ds_validation, epochs=EPOCHS)"
   ]
  },
  {
   "attachments": {},
   "cell_type": "markdown",
   "metadata": {},
   "source": [
    "## Save results as images"
   ]
  },
  {
   "cell_type": "code",
   "execution_count": 21,
   "metadata": {
    "scrolled": true
   },
   "outputs": [
    {
     "name": "stdout",
     "output_type": "stream",
     "text": [
      "1/1 [==============================] - 1s 534ms/step\n",
      "1/1 [==============================] - 0s 437ms/step\n",
      "1/1 [==============================] - 0s 422ms/step\n",
      "1/1 [==============================] - 0s 408ms/step\n",
      "1/1 [==============================] - 0s 405ms/step\n",
      "1/1 [==============================] - 0s 412ms/step\n",
      "1/1 [==============================] - 0s 406ms/step\n",
      "1/1 [==============================] - 0s 411ms/step\n",
      "1/1 [==============================] - 0s 381ms/step\n"
     ]
    }
   ],
   "source": [
    "def mkdir(path):\n",
    "    if os.path.exists(path) is False:\n",
    "        os.mkdir(path)\n",
    "\n",
    "mkdir(RESULT_SAVE_PATH)\n",
    "mkdir(RESULT_SAVE_PATH + '/TP')\n",
    "mkdir(RESULT_SAVE_PATH + '/TN')\n",
    "mkdir(RESULT_SAVE_PATH + '/FP')\n",
    "mkdir(RESULT_SAVE_PATH + '/FN')\n",
    "\n",
    "index = 0\n",
    "for imgs, labels in ds_validation:\n",
    "    preds = model.predict(imgs)\n",
    "    for idx in range (imgs.shape[0]):\n",
    "        gt = labels[idx].numpy()\n",
    "        y = preds[idx]\n",
    "        if gt == 1 and y > 0.5:\n",
    "            path = RESULT_SAVE_PATH + '/TP'\n",
    "        elif gt == 1 and y <= 0.5:\n",
    "            path = RESULT_SAVE_PATH + '/FN'\n",
    "        elif gt == 0 and y > 0.5:\n",
    "            path = RESULT_SAVE_PATH + '/FP'\n",
    "        else:\n",
    "            path = RESULT_SAVE_PATH + '/TN'\n",
    "        cv2.imwrite(path + '/%.f_%04d.png' % (y, index), imgs[idx].numpy() *255)\n",
    "        index +=1"
   ]
  }
 ],
 "metadata": {
  "kernelspec": {
   "display_name": "Python 3",
   "language": "python",
   "name": "python3"
  },
  "language_info": {
   "codemirror_mode": {
    "name": "ipython",
    "version": 3
   },
   "file_extension": ".py",
   "mimetype": "text/x-python",
   "name": "python",
   "nbconvert_exporter": "python",
   "pygments_lexer": "ipython3",
   "version": "3.9.13"
  }
 },
 "nbformat": 4,
 "nbformat_minor": 2
}
