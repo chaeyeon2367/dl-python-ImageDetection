{
 "cells": [
  {
   "attachments": {},
   "cell_type": "markdown",
   "metadata": {},
   "source": [
    "# Model Train and validation"
   ]
  },
  {
   "cell_type": "code",
   "execution_count": 142,
   "metadata": {},
   "outputs": [],
   "source": [
    "import glob\n",
    "import os\n",
    "import tensorflow as tf\n",
    "import tensorflow_addons as tfa\n",
    "import matplotlib.pyplot as plt\n",
    "import cv2\n",
    "from tensorflow.keras.layers import Conv2D, MaxPool2D, Concatenate, Flatten, Dense, Dropout"
   ]
  },
  {
   "attachments": {},
   "cell_type": "markdown",
   "metadata": {},
   "source": [
    "## Hyperparameter"
   ]
  },
  {
   "cell_type": "code",
   "execution_count": 156,
   "metadata": {},
   "outputs": [],
   "source": [
    "EPOCHS = 1000\n",
    "RESULT_SAVE_PATH = '/Users/shim/dl-python-ImageDetection/dataset/results/'\n",
    "TFRECORD_PATH = '/Users/shim/dl-python-ImageDetection/dataset/tfrecords/'\n"
   ]
  },
  {
   "attachments": {},
   "cell_type": "markdown",
   "metadata": {},
   "source": [
    "## Define the model Inception-based"
   ]
  },
  {
   "cell_type": "code",
   "execution_count": 172,
   "metadata": {},
   "outputs": [],
   "source": [
    "def Model():\n",
    "    def inception(filters):\n",
    "        def subnetwork(x):\n",
    "            # padding=same to enable concatenation with other filters\n",
    "            h1 = Conv2D(filters, (1, 1), padding='same', activation='relu')(x)\n",
    "            h1 = MaxPool2D()(h1)\n",
    "            \n",
    "            h2 = Conv2D(filters // 2, (1, 1), padding='same', activation='relu')(x)\n",
    "            h2 = Conv2D(filters, (3, 3), padding='same', activation='relu')(h2)\n",
    "            h2 = MaxPool2D()(h2)\n",
    "            \n",
    "            h3 = Conv2D(filters // 2, (1, 1), padding='same', activation='relu')(x)\n",
    "            h3 = Conv2D(filters, (5, 5), padding='same', activation='relu')(h3)\n",
    "            h3 = MaxPool2D()(h3)\n",
    "            return Concatenate()([h1, h2, h3])\n",
    "        return subnetwork\n",
    "    \n",
    "    x = tf.keras.Input(shape=(256, 256, 3))\n",
    "    h = inception(16)(x)\n",
    "    h = inception(32)(h)\n",
    "    h = inception(32)(h)\n",
    "    h = inception(32)(h)\n",
    "    h = inception(32)(h)\n",
    "    h = Flatten()(h)\n",
    "    h = Dense(1024, activation='relu')(h)\n",
    "    y = Dense(1, activation='sigmoid')(h)\n",
    "    return tf.keras.Model(inputs=x, outputs=y)"
   ]
  },
  {
   "attachments": {},
   "cell_type": "markdown",
   "metadata": {},
   "source": [
    "## Define the Data Preprocessing Functions "
   ]
  },
  {
   "cell_type": "code",
   "execution_count": 147,
   "metadata": {},
   "outputs": [],
   "source": [
    "def preprocess(img):\n",
    "    return tf.image.convert_image_dtype(img, tf.float32)"
   ]
  },
  {
   "cell_type": "code",
   "execution_count": 148,
   "metadata": {},
   "outputs": [],
   "source": [
    "def get_files_list(directory):\n",
    "    file_list = []\n",
    "    for root, dirs, files in os.walk(directory):\n",
    "        for file in files:\n",
    "            file_list.append(os.path.join(root, file))\n",
    "    return file_list"
   ]
  },
  {
   "attachments": {},
   "cell_type": "markdown",
   "metadata": {},
   "source": [
    "## Define the Data Augmentation Function"
   ]
  },
  {
   "cell_type": "code",
   "execution_count": 149,
   "metadata": {},
   "outputs": [],
   "source": [
    "def augmentation(img, label):\n",
    "    def flip(x):\n",
    "        x= tf.image.random_flip_left_right(x)\n",
    "        x= tf.image.random_flip_up_down(x)\n",
    "        return x\n",
    "    def rotate(x):\n",
    "        x = tf.cond(tf.random.uniform(shape=[], minval=0.0, maxval=1.0,dtype=tf.float32)>0.5,\n",
    "                   lambda: tfa.image.rotate(x, tf.random.uniform(shape=[], minval=0.0, maxval=360.0, dtype=tf.float32),\n",
    "                                                                interpolation='BILINEAR'),\n",
    "                   lambda: x)\n",
    "        return x\n",
    "                    \n",
    "    def translation(x):\n",
    "        dx= tf.random.uniform(shape=[], minval=-10.0, maxval=10.0,dtype=tf.float32)\n",
    "        dy= tf.random.uniform(shape=[], minval=-10.0, maxval=10.0,dtype=tf.float32)\n",
    "        x = tf.cond(tf.random.uniform(shape=[], minval=0.0, maxval=1.0, dtype=tf.float32) >0.5,\n",
    "                   lambda: tfa.image.transform(x, [0,0,dx, 0,0,dy, 0,0], #At the end, 20 is a scale factor\n",
    "                                              interpolation='BILINEAR'),\n",
    "                   lambda: x)\n",
    "        return x\n",
    "    img = flip(img)\n",
    "    img = rotate(img)\n",
    "    img = translation(img)    \n",
    "            \n",
    "    return img, label"
   ]
  },
  {
   "attachments": {},
   "cell_type": "markdown",
   "metadata": {},
   "source": [
    "## Import TFRecords "
   ]
  },
  {
   "cell_type": "code",
   "execution_count": 160,
   "metadata": {},
   "outputs": [],
   "source": [
    "tffiles = get_files_list(TFRECORD_PATH)\n",
    "raw_image_dataset = tf.data.TFRecordDataset(tffiles)\n",
    "\n",
    "image_feature_description = {\n",
    "    'height': tf.io.FixedLenFeature([], tf.int64),\n",
    "    'width': tf.io.FixedLenFeature([], tf.int64),\n",
    "    'depth': tf.io.FixedLenFeature([], tf.int64),\n",
    "    'label': tf.io.FixedLenFeature([], tf.int64),\n",
    "    'image_raw': tf.io.FixedLenFeature([], tf.string),\n",
    "}\n",
    "\n",
    "def _parse_image_function(example_proto):\n",
    "    return tf.io.parse_single_example(example_proto, image_feature_description)\n",
    "\n",
    "def _parse_image_label(parsed_dataset):\n",
    "    return preprocess(tf.image.decode_png(parsed_dataset['image_raw'])), parsed_dataset['label']\n",
    "\n",
    "parsed_image_dataset = raw_image_dataset.map(_parse_image_function)\n",
    "dataset = parsed_image_dataset.map(_parse_image_label)"
   ]
  },
  {
   "attachments": {},
   "cell_type": "markdown",
   "metadata": {},
   "source": [
    "## Splite train, validation set"
   ]
  },
  {
   "cell_type": "code",
   "execution_count": 173,
   "metadata": {},
   "outputs": [],
   "source": [
    "ds_size = 0\n",
    "for _ in dataset:\n",
    "    ds_size += 1\n",
    "\n",
    "train_size = int(ds_size * 0.7)\n",
    "\n",
    "ds = dataset.shuffle(ds_size)\n",
    "ds_train = ds.take(train_size).shuffle(1024, reshuffle_each_iteration=True).prefetch(1024).batch(32).map(augmentation)\n",
    "ds_valid = ds.skip(train_size).prefetch(1024).batch(32)"
   ]
  },
  {
   "cell_type": "code",
   "execution_count": 174,
   "metadata": {},
   "outputs": [
    {
     "data": {
      "text/plain": [
       "1736"
      ]
     },
     "execution_count": 174,
     "metadata": {},
     "output_type": "execute_result"
    }
   ],
   "source": [
    "train_size"
   ]
  },
  {
   "cell_type": "code",
   "execution_count": 177,
   "metadata": {},
   "outputs": [],
   "source": [
    "ds_size = 0\n",
    "for _ in dataset:\n",
    "    ds_size += 1\n",
    "\n",
    "train_ratio = 0.6\n",
    "validation_ratio = 0.2\n",
    "test_ratio = 0.2\n",
    "\n",
    "train_size = int(ds_size * train_ratio)\n",
    "validation_size = int(ds_size * validation_ratio)\n",
    "test_size = int(ds_size * test_ratio)\n",
    "ds = dataset.shuffle(ds_size, reshuffle_each_iteration=False)\n",
    "\n",
    "ds_train = ds.take(train_size).shuffle(1024, reshuffle_each_iteration=True).prefetch(1024).batch(32).map(augmentation)\n",
    "ds_valid = ds.skip(train_size).take(validation_size).prefetch(1024).batch(32)\n",
    "ds_test = ds.skip(train_size + validation_size).prefetch(1024).batch(32)\n"
   ]
  },
  {
   "attachments": {},
   "cell_type": "markdown",
   "metadata": {},
   "source": [
    "## Build the Model"
   ]
  },
  {
   "cell_type": "code",
   "execution_count": 178,
   "metadata": {
    "scrolled": true
   },
   "outputs": [],
   "source": [
    "model = Model()\n",
    "model.compile(optimizer='adam',\n",
    "              loss='binary_crossentropy',\n",
    "              metrics=['accuracy'])"
   ]
  },
  {
   "attachments": {},
   "cell_type": "markdown",
   "metadata": {},
   "source": [
    "## Train the Model"
   ]
  },
  {
   "cell_type": "code",
   "execution_count": 179,
   "metadata": {
    "scrolled": true
   },
   "outputs": [
    {
     "name": "stdout",
     "output_type": "stream",
     "text": [
      "Epoch 1/1000\n",
      "47/47 [==============================] - 150s 3s/step - loss: 0.7134 - accuracy: 0.4987 - val_loss: 0.6909 - val_accuracy: 0.4758\n",
      "Epoch 2/1000\n",
      "47/47 [==============================] - 167s 4s/step - loss: 0.6926 - accuracy: 0.5195 - val_loss: 0.6737 - val_accuracy: 0.5685\n",
      "Epoch 3/1000\n",
      "47/47 [==============================] - 178s 4s/step - loss: 0.6954 - accuracy: 0.5175 - val_loss: 0.6946 - val_accuracy: 0.4758\n",
      "Epoch 4/1000\n",
      "47/47 [==============================] - 173s 4s/step - loss: 0.6891 - accuracy: 0.5060 - val_loss: 0.6898 - val_accuracy: 0.4879\n",
      "Epoch 5/1000\n",
      "47/47 [==============================] - 189s 4s/step - loss: 0.6877 - accuracy: 0.5181 - val_loss: 0.7042 - val_accuracy: 0.4798\n",
      "Epoch 6/1000\n",
      "47/47 [==============================] - 181s 4s/step - loss: 0.6858 - accuracy: 0.5403 - val_loss: 0.6899 - val_accuracy: 0.6149\n",
      "Epoch 7/1000\n",
      "47/47 [==============================] - 187s 4s/step - loss: 0.6862 - accuracy: 0.5242 - val_loss: 0.7710 - val_accuracy: 0.4758\n",
      "Epoch 8/1000\n",
      "47/47 [==============================] - 171s 4s/step - loss: 0.6918 - accuracy: 0.5114 - val_loss: 0.6589 - val_accuracy: 0.6411\n",
      "Epoch 9/1000\n",
      "47/47 [==============================] - 167s 4s/step - loss: 0.6729 - accuracy: 0.5484 - val_loss: 0.6801 - val_accuracy: 0.6331\n",
      "Epoch 10/1000\n",
      "47/47 [==============================] - 169s 4s/step - loss: 0.6727 - accuracy: 0.5733 - val_loss: 0.6455 - val_accuracy: 0.6250\n",
      "Epoch 11/1000\n",
      "47/47 [==============================] - 916s 20s/step - loss: 0.6748 - accuracy: 0.5733 - val_loss: 0.7206 - val_accuracy: 0.4758\n",
      "Epoch 12/1000\n",
      "47/47 [==============================] - 129s 3s/step - loss: 0.6912 - accuracy: 0.5161 - val_loss: 0.6895 - val_accuracy: 0.4758\n",
      "Epoch 13/1000\n",
      "47/47 [==============================] - 131s 3s/step - loss: 0.6853 - accuracy: 0.5161 - val_loss: 0.6861 - val_accuracy: 0.4758\n",
      "Epoch 14/1000\n",
      "47/47 [==============================] - 135s 3s/step - loss: 0.6879 - accuracy: 0.5054 - val_loss: 0.7024 - val_accuracy: 0.5302\n",
      "Epoch 15/1000\n",
      "47/47 [==============================] - 137s 3s/step - loss: 0.6853 - accuracy: 0.4940 - val_loss: 0.6970 - val_accuracy: 0.4758\n",
      "Epoch 16/1000\n",
      "47/47 [==============================] - 147s 3s/step - loss: 0.6823 - accuracy: 0.5511 - val_loss: 0.6808 - val_accuracy: 0.5887\n",
      "Epoch 17/1000\n",
      "47/47 [==============================] - 141s 3s/step - loss: 0.6841 - accuracy: 0.5316 - val_loss: 0.6736 - val_accuracy: 0.6492\n",
      "Epoch 18/1000\n",
      "47/47 [==============================] - 722s 16s/step - loss: 0.6850 - accuracy: 0.5255 - val_loss: 0.6762 - val_accuracy: 0.6431\n",
      "Epoch 19/1000\n",
      "47/47 [==============================] - 257s 6s/step - loss: 0.6823 - accuracy: 0.5504 - val_loss: 0.6717 - val_accuracy: 0.6371\n",
      "Epoch 20/1000\n",
      "47/47 [==============================] - 156s 3s/step - loss: 0.6787 - accuracy: 0.5632 - val_loss: 0.6761 - val_accuracy: 0.4940\n",
      "Epoch 21/1000\n",
      "47/47 [==============================] - 147s 3s/step - loss: 0.6781 - accuracy: 0.5397 - val_loss: 0.7370 - val_accuracy: 0.4758\n",
      "Epoch 22/1000\n",
      "47/47 [==============================] - 145s 3s/step - loss: 0.6874 - accuracy: 0.5128 - val_loss: 0.6752 - val_accuracy: 0.5202\n",
      "Epoch 23/1000\n",
      "47/47 [==============================] - 148s 3s/step - loss: 0.6792 - accuracy: 0.5195 - val_loss: 0.6621 - val_accuracy: 0.5806\n",
      "Epoch 24/1000\n",
      "47/47 [==============================] - 154s 3s/step - loss: 0.6923 - accuracy: 0.5397 - val_loss: 0.6850 - val_accuracy: 0.4758\n",
      "Epoch 25/1000\n",
      "47/47 [==============================] - 155s 3s/step - loss: 0.6824 - accuracy: 0.5181 - val_loss: 0.6590 - val_accuracy: 0.5141\n",
      "Epoch 26/1000\n",
      "47/47 [==============================] - 152s 3s/step - loss: 0.6644 - accuracy: 0.5927 - val_loss: 0.6454 - val_accuracy: 0.6089\n",
      "Epoch 27/1000\n",
      "47/47 [==============================] - 165s 3s/step - loss: 0.6334 - accuracy: 0.6230 - val_loss: 0.5978 - val_accuracy: 0.6512\n",
      "Epoch 28/1000\n",
      "47/47 [==============================] - 168s 4s/step - loss: 0.6517 - accuracy: 0.6122 - val_loss: 0.7201 - val_accuracy: 0.5948\n",
      "Epoch 29/1000\n",
      "47/47 [==============================] - 178s 4s/step - loss: 0.6855 - accuracy: 0.5430 - val_loss: 0.6595 - val_accuracy: 0.6552\n",
      "Epoch 30/1000\n",
      "47/47 [==============================] - 182s 4s/step - loss: 0.6580 - accuracy: 0.5652 - val_loss: 0.6335 - val_accuracy: 0.6391\n",
      "Epoch 31/1000\n",
      "47/47 [==============================] - 187s 4s/step - loss: 0.6390 - accuracy: 0.6089 - val_loss: 0.6216 - val_accuracy: 0.6714\n",
      "Epoch 32/1000\n",
      "47/47 [==============================] - 181s 4s/step - loss: 0.6709 - accuracy: 0.5679 - val_loss: 0.6218 - val_accuracy: 0.6794\n",
      "Epoch 33/1000\n",
      "47/47 [==============================] - 173s 4s/step - loss: 0.6412 - accuracy: 0.6082 - val_loss: 0.5822 - val_accuracy: 0.6855\n",
      "Epoch 34/1000\n",
      "47/47 [==============================] - 177s 4s/step - loss: 0.6603 - accuracy: 0.5659 - val_loss: 0.6566 - val_accuracy: 0.6069\n",
      "Epoch 35/1000\n",
      "47/47 [==============================] - 181s 4s/step - loss: 0.6508 - accuracy: 0.5706 - val_loss: 0.5649 - val_accuracy: 0.6935\n",
      "Epoch 36/1000\n",
      "47/47 [==============================] - 176s 4s/step - loss: 0.6224 - accuracy: 0.6337 - val_loss: 0.5488 - val_accuracy: 0.6976\n",
      "Epoch 37/1000\n",
      "47/47 [==============================] - 182s 4s/step - loss: 0.6344 - accuracy: 0.6176 - val_loss: 0.5608 - val_accuracy: 0.7278\n",
      "Epoch 38/1000\n",
      "47/47 [==============================] - 167s 4s/step - loss: 0.6166 - accuracy: 0.6270 - val_loss: 0.5759 - val_accuracy: 0.6956\n",
      "Epoch 39/1000\n",
      "47/47 [==============================] - 157s 3s/step - loss: 0.6141 - accuracy: 0.6425 - val_loss: 0.5353 - val_accuracy: 0.7540\n",
      "Epoch 40/1000\n",
      "47/47 [==============================] - 154s 3s/step - loss: 0.6457 - accuracy: 0.6102 - val_loss: 0.5470 - val_accuracy: 0.7298\n",
      "Epoch 41/1000\n",
      "47/47 [==============================] - 156s 3s/step - loss: 0.6267 - accuracy: 0.6317 - val_loss: 0.5215 - val_accuracy: 0.7520\n",
      "Epoch 42/1000\n",
      "47/47 [==============================] - 670s 14s/step - loss: 0.6181 - accuracy: 0.6418 - val_loss: 0.6011 - val_accuracy: 0.7016\n",
      "Epoch 43/1000\n",
      "47/47 [==============================] - 136s 3s/step - loss: 0.6560 - accuracy: 0.5968 - val_loss: 0.5564 - val_accuracy: 0.7258\n",
      "Epoch 44/1000\n",
      "47/47 [==============================] - 146s 3s/step - loss: 0.6249 - accuracy: 0.6337 - val_loss: 0.5643 - val_accuracy: 0.7218\n",
      "Epoch 45/1000\n",
      "47/47 [==============================] - 150s 3s/step - loss: 0.6344 - accuracy: 0.6297 - val_loss: 0.5362 - val_accuracy: 0.7560\n",
      "Epoch 46/1000\n",
      "47/47 [==============================] - 165s 3s/step - loss: 0.6238 - accuracy: 0.6263 - val_loss: 0.5815 - val_accuracy: 0.6996\n",
      "Epoch 47/1000\n",
      "47/47 [==============================] - 158s 3s/step - loss: 0.6045 - accuracy: 0.6485 - val_loss: 0.5515 - val_accuracy: 0.7238\n",
      "Epoch 48/1000\n",
      "47/47 [==============================] - 156s 3s/step - loss: 0.6157 - accuracy: 0.6519 - val_loss: 0.5115 - val_accuracy: 0.7581\n",
      "Epoch 49/1000\n",
      "47/47 [==============================] - 153s 3s/step - loss: 0.6434 - accuracy: 0.6062 - val_loss: 0.5747 - val_accuracy: 0.6573\n",
      "Epoch 50/1000\n",
      "47/47 [==============================] - 161s 3s/step - loss: 0.6399 - accuracy: 0.6042 - val_loss: 0.5601 - val_accuracy: 0.7319\n",
      "Epoch 51/1000\n",
      "47/47 [==============================] - 178s 4s/step - loss: 0.6064 - accuracy: 0.6485 - val_loss: 0.5227 - val_accuracy: 0.7500\n",
      "Epoch 52/1000\n",
      "47/47 [==============================] - 161s 3s/step - loss: 0.5992 - accuracy: 0.6647 - val_loss: 0.5083 - val_accuracy: 0.7581\n",
      "Epoch 53/1000\n",
      "47/47 [==============================] - 176s 4s/step - loss: 0.6204 - accuracy: 0.6062 - val_loss: 0.5084 - val_accuracy: 0.7621\n",
      "Epoch 54/1000\n",
      "47/47 [==============================] - 172s 4s/step - loss: 0.5861 - accuracy: 0.6573 - val_loss: 0.5082 - val_accuracy: 0.7399\n",
      "Epoch 55/1000\n",
      "47/47 [==============================] - 175s 4s/step - loss: 0.6047 - accuracy: 0.6337 - val_loss: 0.5564 - val_accuracy: 0.7359\n",
      "Epoch 56/1000\n",
      "47/47 [==============================] - 161s 3s/step - loss: 0.6103 - accuracy: 0.6391 - val_loss: 0.5036 - val_accuracy: 0.7621\n",
      "Epoch 57/1000\n",
      "47/47 [==============================] - 158s 3s/step - loss: 0.6357 - accuracy: 0.5954 - val_loss: 0.5312 - val_accuracy: 0.7641\n",
      "Epoch 58/1000\n",
      "47/47 [==============================] - 156s 3s/step - loss: 0.6127 - accuracy: 0.6331 - val_loss: 0.5057 - val_accuracy: 0.7681\n",
      "Epoch 59/1000\n",
      "47/47 [==============================] - 155s 3s/step - loss: 0.6406 - accuracy: 0.6062 - val_loss: 0.5860 - val_accuracy: 0.6391\n",
      "Epoch 60/1000\n",
      "47/47 [==============================] - 731s 16s/step - loss: 0.6189 - accuracy: 0.6317 - val_loss: 0.5065 - val_accuracy: 0.7560\n",
      "Epoch 61/1000\n",
      "47/47 [==============================] - 419s 9s/step - loss: 0.6103 - accuracy: 0.6425 - val_loss: 0.5154 - val_accuracy: 0.7742\n",
      "Epoch 62/1000\n",
      "47/47 [==============================] - 135s 3s/step - loss: 0.5880 - accuracy: 0.6626 - val_loss: 0.5267 - val_accuracy: 0.7319\n",
      "Epoch 63/1000\n",
      "47/47 [==============================] - 136s 3s/step - loss: 0.6111 - accuracy: 0.6304 - val_loss: 0.5109 - val_accuracy: 0.7440\n",
      "Epoch 64/1000\n",
      "47/47 [==============================] - 137s 3s/step - loss: 0.6060 - accuracy: 0.6331 - val_loss: 0.5055 - val_accuracy: 0.7661\n",
      "Epoch 65/1000\n",
      "47/47 [==============================] - 140s 3s/step - loss: 0.5828 - accuracy: 0.6620 - val_loss: 0.4997 - val_accuracy: 0.7520\n",
      "Epoch 66/1000\n",
      "47/47 [==============================] - 142s 3s/step - loss: 0.5978 - accuracy: 0.6317 - val_loss: 0.5039 - val_accuracy: 0.7500\n",
      "Epoch 67/1000\n",
      "47/47 [==============================] - 144s 3s/step - loss: 0.6154 - accuracy: 0.6257 - val_loss: 0.5076 - val_accuracy: 0.7500\n",
      "Epoch 68/1000\n",
      "47/47 [==============================] - 144s 3s/step - loss: 0.6145 - accuracy: 0.6310 - val_loss: 0.5121 - val_accuracy: 0.7621\n",
      "Epoch 69/1000\n",
      "47/47 [==============================] - 144s 3s/step - loss: 0.5932 - accuracy: 0.6566 - val_loss: 0.5357 - val_accuracy: 0.7177\n",
      "Epoch 70/1000\n",
      "47/47 [==============================] - 145s 3s/step - loss: 0.6205 - accuracy: 0.6263 - val_loss: 0.4986 - val_accuracy: 0.7480\n",
      "Epoch 71/1000\n",
      "47/47 [==============================] - 145s 3s/step - loss: 0.5987 - accuracy: 0.6458 - val_loss: 0.4985 - val_accuracy: 0.7742\n",
      "Epoch 72/1000\n",
      "47/47 [==============================] - 146s 3s/step - loss: 0.5998 - accuracy: 0.6532 - val_loss: 0.4979 - val_accuracy: 0.7560\n",
      "Epoch 73/1000\n",
      "47/47 [==============================] - 147s 3s/step - loss: 0.5995 - accuracy: 0.6398 - val_loss: 0.5108 - val_accuracy: 0.7339\n",
      "Epoch 74/1000\n",
      "47/47 [==============================] - 153s 3s/step - loss: 0.5803 - accuracy: 0.6700 - val_loss: 0.5040 - val_accuracy: 0.7339\n",
      "Epoch 75/1000\n",
      "47/47 [==============================] - 156s 3s/step - loss: 0.6034 - accuracy: 0.6505 - val_loss: 0.5403 - val_accuracy: 0.7097\n",
      "Epoch 76/1000\n",
      "47/47 [==============================] - 160s 3s/step - loss: 0.6176 - accuracy: 0.6317 - val_loss: 0.4995 - val_accuracy: 0.7560\n",
      "Epoch 77/1000\n",
      "47/47 [==============================] - 160s 3s/step - loss: 0.5794 - accuracy: 0.6640 - val_loss: 0.4752 - val_accuracy: 0.7762\n",
      "Epoch 78/1000\n",
      "47/47 [==============================] - 160s 3s/step - loss: 0.6042 - accuracy: 0.6324 - val_loss: 0.5106 - val_accuracy: 0.7379\n",
      "Epoch 79/1000\n",
      "47/47 [==============================] - 160s 3s/step - loss: 0.6261 - accuracy: 0.6317 - val_loss: 0.5345 - val_accuracy: 0.7440\n",
      "Epoch 80/1000\n",
      "47/47 [==============================] - 160s 3s/step - loss: 0.6013 - accuracy: 0.6176 - val_loss: 0.5181 - val_accuracy: 0.7137\n",
      "Epoch 81/1000\n",
      "47/47 [==============================] - 161s 3s/step - loss: 0.5999 - accuracy: 0.6431 - val_loss: 0.4905 - val_accuracy: 0.7540\n",
      "Epoch 82/1000\n",
      "47/47 [==============================] - 159s 3s/step - loss: 0.6125 - accuracy: 0.6250 - val_loss: 0.5158 - val_accuracy: 0.7661\n",
      "Epoch 83/1000\n",
      "47/47 [==============================] - 157s 3s/step - loss: 0.5921 - accuracy: 0.6613 - val_loss: 0.4920 - val_accuracy: 0.7661\n",
      "Epoch 84/1000\n",
      "47/47 [==============================] - 157s 3s/step - loss: 0.6162 - accuracy: 0.6230 - val_loss: 0.4873 - val_accuracy: 0.7722\n",
      "Epoch 85/1000\n",
      "47/47 [==============================] - 159s 3s/step - loss: 0.5718 - accuracy: 0.6848 - val_loss: 0.5119 - val_accuracy: 0.7480\n",
      "Epoch 86/1000\n",
      "47/47 [==============================] - 159s 3s/step - loss: 0.6058 - accuracy: 0.6391 - val_loss: 0.5387 - val_accuracy: 0.7238\n",
      "Epoch 87/1000\n",
      "47/47 [==============================] - 160s 3s/step - loss: 0.6102 - accuracy: 0.6324 - val_loss: 0.4892 - val_accuracy: 0.7762\n",
      "Epoch 88/1000\n",
      "47/47 [==============================] - 159s 3s/step - loss: 0.5889 - accuracy: 0.6653 - val_loss: 0.4898 - val_accuracy: 0.7681\n",
      "Epoch 89/1000\n",
      "47/47 [==============================] - 161s 3s/step - loss: 0.6200 - accuracy: 0.6142 - val_loss: 0.4877 - val_accuracy: 0.7681\n",
      "Epoch 90/1000\n",
      "47/47 [==============================] - 161s 3s/step - loss: 0.6001 - accuracy: 0.6358 - val_loss: 0.4881 - val_accuracy: 0.7641\n",
      "Epoch 91/1000\n",
      "47/47 [==============================] - 159s 3s/step - loss: 0.6029 - accuracy: 0.6270 - val_loss: 0.4895 - val_accuracy: 0.7661\n",
      "Epoch 92/1000\n",
      "47/47 [==============================] - 159s 3s/step - loss: 0.6273 - accuracy: 0.6122 - val_loss: 0.5166 - val_accuracy: 0.7520\n",
      "Epoch 93/1000\n",
      "47/47 [==============================] - 160s 3s/step - loss: 0.5853 - accuracy: 0.6492 - val_loss: 0.5397 - val_accuracy: 0.7177\n",
      "Epoch 94/1000\n",
      "47/47 [==============================] - 159s 3s/step - loss: 0.5784 - accuracy: 0.6667 - val_loss: 0.5090 - val_accuracy: 0.7379\n",
      "Epoch 95/1000\n",
      "47/47 [==============================] - 165s 3s/step - loss: 0.5618 - accuracy: 0.6694 - val_loss: 0.5309 - val_accuracy: 0.7339\n",
      "Epoch 96/1000\n",
      "47/47 [==============================] - 177s 4s/step - loss: 0.5769 - accuracy: 0.6734 - val_loss: 0.4997 - val_accuracy: 0.7722\n",
      "Epoch 97/1000\n",
      "47/47 [==============================] - 161s 3s/step - loss: 0.6099 - accuracy: 0.6109 - val_loss: 0.4994 - val_accuracy: 0.7702\n",
      "Epoch 97: early stopping\n"
     ]
    }
   ],
   "source": [
    "earlystopping = tf.keras.callbacks.EarlyStopping(monitor='val_loss', patience=20, verbose=1)\n",
    "history = model.fit(ds_train,\n",
    "                    validation_data=ds_valid,\n",
    "                    epochs=EPOCHS,\n",
    "                    callbacks=[earlystopping])"
   ]
  },
  {
   "attachments": {},
   "cell_type": "markdown",
   "metadata": {},
   "source": [
    "## Model training Results"
   ]
  },
  {
   "cell_type": "code",
   "execution_count": 180,
   "metadata": {},
   "outputs": [
    {
     "data": {
      "image/png": "[encoded data removed]",
      "text/plain": [
       "<Figure size 640x480 with 1 Axes>"
      ]
     },
     "metadata": {},
     "output_type": "display_data"
    }
   ],
   "source": [
    "loss = history.history['loss']\n",
    "val_loss = history.history['val_loss']\n",
    "\n",
    "plt.figure()\n",
    "plt.plot(loss, 'ro-')\n",
    "plt.plot(val_loss, 'bo-')\n",
    "plt.ylabel('Cross Entropy')\n",
    "plt.xlabel('Epoch')\n",
    "plt.title('Training and Validation Loss')\n",
    "plt.show()"
   ]
  },
  {
   "attachments": {},
   "cell_type": "markdown",
   "metadata": {},
   "source": [
    "## Model evaluation"
   ]
  },
  {
   "cell_type": "code",
   "execution_count": 181,
   "metadata": {},
   "outputs": [
    {
     "name": "stdout",
     "output_type": "stream",
     "text": [
      "16/16 [==============================] - 9s 474ms/step - loss: 0.5077 - accuracy: 0.7581\n",
      "Test accuracy: 0.7581\n",
      "Test loss: 0.5077\n"
     ]
    }
   ],
   "source": [
    "test_loss, test_accuracy = model.evaluate(ds_test)\n",
    "\n",
    "print(f'Test accuracy: {test_accuracy:.4f}')\n",
    "print(f'Test loss: {test_loss:.4f}')\n"
   ]
  },
  {
   "attachments": {},
   "cell_type": "markdown",
   "metadata": {},
   "source": [
    "## Save the Model"
   ]
  },
  {
   "cell_type": "code",
   "execution_count": 182,
   "metadata": {},
   "outputs": [],
   "source": [
    "model.save('./model/inception_model.h5')"
   ]
  }
 ],
 "metadata": {
  "kernelspec": {
   "display_name": "Python 3",
   "language": "python",
   "name": "python3"
  },
  "language_info": {
   "codemirror_mode": {
    "name": "ipython",
    "version": 3
   },
   "file_extension": ".py",
   "mimetype": "text/x-python",
   "name": "python",
   "nbconvert_exporter": "python",
   "pygments_lexer": "ipython3",
   "version": "3.9.13"
  }
 },
 "nbformat": 4,
 "nbformat_minor": 2
}
